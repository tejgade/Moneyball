{
 "cells": [
  {
   "cell_type": "markdown",
   "metadata": {
    "colab_type": "text",
    "id": "ECouzEqB51TW"
   },
   "source": [
    "# **Moneyball Dataset**\n",
    "\n",
    "Concepts:\n",
    "\n",
    "* Feature Engineering\n",
    "* EDA\n",
    "* Data Cleaning (DropNA, Median, Mean)\n",
    "* Linear Regression\n",
    "* Predicting Value\n"
   ]
  },
  {
   "cell_type": "code",
   "execution_count": 1,
   "metadata": {
    "colab": {},
    "colab_type": "code",
    "id": "a7x7_rQ151og"
   },
   "outputs": [],
   "source": [
    "import numpy as np\n",
    "import pandas as pd\n",
    "from matplotlib import pyplot as plt\n",
    "%matplotlib inline\n",
    "import seaborn as sns\n",
    "from sklearn.model_selection import train_test_split, KFold, cross_val_score\n",
    "from sklearn.linear_model import LinearRegression, Ridge, Lasso, ElasticNet\n",
    "from sklearn.preprocessing import StandardScaler\n",
    "from sklearn import model_selection\n",
    "import scipy.stats as stats\n",
    "import statsmodels.formula.api as smf\n",
    "import statsmodels.api as sm\n",
    "from sklearn import metrics\n",
    "import warnings\n",
    "warnings.filterwarnings('ignore')"
   ]
  },
  {
   "cell_type": "markdown",
   "metadata": {
    "colab_type": "text",
    "id": "5A_seSdo6_9q"
   },
   "source": [
    "Description: Baseball Dataset:\n",
    "\n",
    "* RA = Runs Allowed\n",
    "* RS = Runs Scored\n",
    "* OBG = On Base Percentage\n",
    "* SLG = Slugging Percentage (Measure of batting productivity of hitter: calculated by: total bases / at bats)\n",
    "\n",
    "* BA = Batting Average\n",
    "* OOBP = Opponent's OBP\n",
    "* OSLG = Opponent's SLG\n",
    "* W = No. of wins in that season"
   ]
  },
  {
   "cell_type": "code",
   "execution_count": 2,
   "metadata": {
    "colab": {
     "base_uri": "https://localhost:8080/",
     "height": 194
    },
    "colab_type": "code",
    "executionInfo": {
     "elapsed": 1057,
     "status": "ok",
     "timestamp": 1591183598213,
     "user": {
      "displayName": "Utthejh Gade",
      "photoUrl": "https://lh3.googleusercontent.com/a-/AOh14Ggkse30O7zFwf3_ehaf4TWAvINQgJUXDDB7vHph=s64",
      "userId": "16926086647299800832"
     },
     "user_tz": -330
    },
    "id": "IVYbdlH96gTM",
    "outputId": "f714ff29-ae16-4ecf-b146-8b63f03af532"
   },
   "outputs": [
    {
     "data": {
      "text/html": [
       "<div>\n",
       "<style scoped>\n",
       "    .dataframe tbody tr th:only-of-type {\n",
       "        vertical-align: middle;\n",
       "    }\n",
       "\n",
       "    .dataframe tbody tr th {\n",
       "        vertical-align: top;\n",
       "    }\n",
       "\n",
       "    .dataframe thead th {\n",
       "        text-align: right;\n",
       "    }\n",
       "</style>\n",
       "<table border=\"1\" class=\"dataframe\">\n",
       "  <thead>\n",
       "    <tr style=\"text-align: right;\">\n",
       "      <th></th>\n",
       "      <th>Team</th>\n",
       "      <th>League</th>\n",
       "      <th>Year</th>\n",
       "      <th>RS</th>\n",
       "      <th>RA</th>\n",
       "      <th>W</th>\n",
       "      <th>OBP</th>\n",
       "      <th>SLG</th>\n",
       "      <th>BA</th>\n",
       "      <th>Playoffs</th>\n",
       "      <th>RankSeason</th>\n",
       "      <th>RankPlayoffs</th>\n",
       "      <th>G</th>\n",
       "      <th>OOBP</th>\n",
       "      <th>OSLG</th>\n",
       "    </tr>\n",
       "  </thead>\n",
       "  <tbody>\n",
       "    <tr>\n",
       "      <td>0</td>\n",
       "      <td>ARI</td>\n",
       "      <td>NL</td>\n",
       "      <td>2012</td>\n",
       "      <td>734</td>\n",
       "      <td>688</td>\n",
       "      <td>81</td>\n",
       "      <td>0.328</td>\n",
       "      <td>0.418</td>\n",
       "      <td>0.259</td>\n",
       "      <td>0</td>\n",
       "      <td>NaN</td>\n",
       "      <td>NaN</td>\n",
       "      <td>162</td>\n",
       "      <td>0.317</td>\n",
       "      <td>0.415</td>\n",
       "    </tr>\n",
       "    <tr>\n",
       "      <td>1</td>\n",
       "      <td>ATL</td>\n",
       "      <td>NL</td>\n",
       "      <td>2012</td>\n",
       "      <td>700</td>\n",
       "      <td>600</td>\n",
       "      <td>94</td>\n",
       "      <td>0.320</td>\n",
       "      <td>0.389</td>\n",
       "      <td>0.247</td>\n",
       "      <td>1</td>\n",
       "      <td>4.0</td>\n",
       "      <td>5.0</td>\n",
       "      <td>162</td>\n",
       "      <td>0.306</td>\n",
       "      <td>0.378</td>\n",
       "    </tr>\n",
       "    <tr>\n",
       "      <td>2</td>\n",
       "      <td>BAL</td>\n",
       "      <td>AL</td>\n",
       "      <td>2012</td>\n",
       "      <td>712</td>\n",
       "      <td>705</td>\n",
       "      <td>93</td>\n",
       "      <td>0.311</td>\n",
       "      <td>0.417</td>\n",
       "      <td>0.247</td>\n",
       "      <td>1</td>\n",
       "      <td>5.0</td>\n",
       "      <td>4.0</td>\n",
       "      <td>162</td>\n",
       "      <td>0.315</td>\n",
       "      <td>0.403</td>\n",
       "    </tr>\n",
       "    <tr>\n",
       "      <td>3</td>\n",
       "      <td>BOS</td>\n",
       "      <td>AL</td>\n",
       "      <td>2012</td>\n",
       "      <td>734</td>\n",
       "      <td>806</td>\n",
       "      <td>69</td>\n",
       "      <td>0.315</td>\n",
       "      <td>0.415</td>\n",
       "      <td>0.260</td>\n",
       "      <td>0</td>\n",
       "      <td>NaN</td>\n",
       "      <td>NaN</td>\n",
       "      <td>162</td>\n",
       "      <td>0.331</td>\n",
       "      <td>0.428</td>\n",
       "    </tr>\n",
       "    <tr>\n",
       "      <td>4</td>\n",
       "      <td>CHC</td>\n",
       "      <td>NL</td>\n",
       "      <td>2012</td>\n",
       "      <td>613</td>\n",
       "      <td>759</td>\n",
       "      <td>61</td>\n",
       "      <td>0.302</td>\n",
       "      <td>0.378</td>\n",
       "      <td>0.240</td>\n",
       "      <td>0</td>\n",
       "      <td>NaN</td>\n",
       "      <td>NaN</td>\n",
       "      <td>162</td>\n",
       "      <td>0.335</td>\n",
       "      <td>0.424</td>\n",
       "    </tr>\n",
       "  </tbody>\n",
       "</table>\n",
       "</div>"
      ],
      "text/plain": [
       "  Team League  Year   RS   RA   W    OBP    SLG     BA  Playoffs  RankSeason  \\\n",
       "0  ARI     NL  2012  734  688  81  0.328  0.418  0.259         0         NaN   \n",
       "1  ATL     NL  2012  700  600  94  0.320  0.389  0.247         1         4.0   \n",
       "2  BAL     AL  2012  712  705  93  0.311  0.417  0.247         1         5.0   \n",
       "3  BOS     AL  2012  734  806  69  0.315  0.415  0.260         0         NaN   \n",
       "4  CHC     NL  2012  613  759  61  0.302  0.378  0.240         0         NaN   \n",
       "\n",
       "   RankPlayoffs    G   OOBP   OSLG  \n",
       "0           NaN  162  0.317  0.415  \n",
       "1           5.0  162  0.306  0.378  \n",
       "2           4.0  162  0.315  0.403  \n",
       "3           NaN  162  0.331  0.428  \n",
       "4           NaN  162  0.335  0.424  "
      ]
     },
     "execution_count": 2,
     "metadata": {},
     "output_type": "execute_result"
    }
   ],
   "source": [
    "bb  = pd.read_csv('baseball.csv')\n",
    "bb.head()"
   ]
  },
  {
   "cell_type": "code",
   "execution_count": 3,
   "metadata": {
    "colab": {
     "base_uri": "https://localhost:8080/",
     "height": 35
    },
    "colab_type": "code",
    "executionInfo": {
     "elapsed": 891,
     "status": "ok",
     "timestamp": 1591143107269,
     "user": {
      "displayName": "Utthejh Gade",
      "photoUrl": "https://lh3.googleusercontent.com/a-/AOh14Ggkse30O7zFwf3_ehaf4TWAvINQgJUXDDB7vHph=s64",
      "userId": "16926086647299800832"
     },
     "user_tz": -330
    },
    "id": "x1Eqj0OU68L9",
    "outputId": "45d6645a-33fa-479e-863d-ce000fff534d"
   },
   "outputs": [
    {
     "data": {
      "text/plain": [
       "(1232, 15)"
      ]
     },
     "execution_count": 3,
     "metadata": {},
     "output_type": "execute_result"
    }
   ],
   "source": [
    "bb.shape"
   ]
  },
  {
   "cell_type": "code",
   "execution_count": 4,
   "metadata": {
    "colab": {
     "base_uri": "https://localhost:8080/",
     "height": 428
    },
    "colab_type": "code",
    "executionInfo": {
     "elapsed": 1194,
     "status": "ok",
     "timestamp": 1591143107782,
     "user": {
      "displayName": "Utthejh Gade",
      "photoUrl": "https://lh3.googleusercontent.com/a-/AOh14Ggkse30O7zFwf3_ehaf4TWAvINQgJUXDDB7vHph=s64",
      "userId": "16926086647299800832"
     },
     "user_tz": -330
    },
    "id": "rAD1re4k7sZi",
    "outputId": "ba12b0b2-446d-49e2-8500-3650f3b3a21c"
   },
   "outputs": [
    {
     "data": {
      "text/html": [
       "<div>\n",
       "<style scoped>\n",
       "    .dataframe tbody tr th:only-of-type {\n",
       "        vertical-align: middle;\n",
       "    }\n",
       "\n",
       "    .dataframe tbody tr th {\n",
       "        vertical-align: top;\n",
       "    }\n",
       "\n",
       "    .dataframe thead th {\n",
       "        text-align: right;\n",
       "    }\n",
       "</style>\n",
       "<table border=\"1\" class=\"dataframe\">\n",
       "  <thead>\n",
       "    <tr style=\"text-align: right;\">\n",
       "      <th></th>\n",
       "      <th>Year</th>\n",
       "      <th>RS</th>\n",
       "      <th>RA</th>\n",
       "      <th>W</th>\n",
       "      <th>OBP</th>\n",
       "      <th>SLG</th>\n",
       "      <th>BA</th>\n",
       "      <th>Playoffs</th>\n",
       "      <th>RankSeason</th>\n",
       "      <th>RankPlayoffs</th>\n",
       "      <th>G</th>\n",
       "      <th>OOBP</th>\n",
       "      <th>OSLG</th>\n",
       "    </tr>\n",
       "  </thead>\n",
       "  <tbody>\n",
       "    <tr>\n",
       "      <td>Year</td>\n",
       "      <td>1.000000</td>\n",
       "      <td>0.418978</td>\n",
       "      <td>0.412020</td>\n",
       "      <td>0.004138</td>\n",
       "      <td>0.374354</td>\n",
       "      <td>0.536037</td>\n",
       "      <td>0.349397</td>\n",
       "      <td>0.145779</td>\n",
       "      <td>0.385219</td>\n",
       "      <td>0.443967</td>\n",
       "      <td>0.009287</td>\n",
       "      <td>-0.371869</td>\n",
       "      <td>-0.345667</td>\n",
       "    </tr>\n",
       "    <tr>\n",
       "      <td>RS</td>\n",
       "      <td>0.418978</td>\n",
       "      <td>1.000000</td>\n",
       "      <td>0.380139</td>\n",
       "      <td>0.511745</td>\n",
       "      <td>0.900492</td>\n",
       "      <td>0.918740</td>\n",
       "      <td>0.827000</td>\n",
       "      <td>0.386628</td>\n",
       "      <td>-0.027687</td>\n",
       "      <td>0.210963</td>\n",
       "      <td>0.075195</td>\n",
       "      <td>0.133981</td>\n",
       "      <td>0.193426</td>\n",
       "    </tr>\n",
       "    <tr>\n",
       "      <td>RA</td>\n",
       "      <td>0.412020</td>\n",
       "      <td>0.380139</td>\n",
       "      <td>1.000000</td>\n",
       "      <td>-0.532394</td>\n",
       "      <td>0.326360</td>\n",
       "      <td>0.436527</td>\n",
       "      <td>0.330764</td>\n",
       "      <td>-0.261477</td>\n",
       "      <td>0.399141</td>\n",
       "      <td>0.315128</td>\n",
       "      <td>-0.023369</td>\n",
       "      <td>0.910344</td>\n",
       "      <td>0.909319</td>\n",
       "    </tr>\n",
       "    <tr>\n",
       "      <td>W</td>\n",
       "      <td>0.004138</td>\n",
       "      <td>0.511745</td>\n",
       "      <td>-0.532394</td>\n",
       "      <td>1.000000</td>\n",
       "      <td>0.481836</td>\n",
       "      <td>0.401496</td>\n",
       "      <td>0.408716</td>\n",
       "      <td>0.616757</td>\n",
       "      <td>-0.755098</td>\n",
       "      <td>-0.198960</td>\n",
       "      <td>0.105309</td>\n",
       "      <td>-0.634315</td>\n",
       "      <td>-0.568490</td>\n",
       "    </tr>\n",
       "    <tr>\n",
       "      <td>OBP</td>\n",
       "      <td>0.374354</td>\n",
       "      <td>0.900492</td>\n",
       "      <td>0.326360</td>\n",
       "      <td>0.481836</td>\n",
       "      <td>1.000000</td>\n",
       "      <td>0.790910</td>\n",
       "      <td>0.851958</td>\n",
       "      <td>0.363890</td>\n",
       "      <td>0.001612</td>\n",
       "      <td>0.175349</td>\n",
       "      <td>0.016563</td>\n",
       "      <td>0.120349</td>\n",
       "      <td>0.153372</td>\n",
       "    </tr>\n",
       "    <tr>\n",
       "      <td>SLG</td>\n",
       "      <td>0.536037</td>\n",
       "      <td>0.918740</td>\n",
       "      <td>0.436527</td>\n",
       "      <td>0.401496</td>\n",
       "      <td>0.790910</td>\n",
       "      <td>1.000000</td>\n",
       "      <td>0.790481</td>\n",
       "      <td>0.324713</td>\n",
       "      <td>0.126663</td>\n",
       "      <td>0.271893</td>\n",
       "      <td>0.036770</td>\n",
       "      <td>0.143861</td>\n",
       "      <td>0.210423</td>\n",
       "    </tr>\n",
       "    <tr>\n",
       "      <td>BA</td>\n",
       "      <td>0.349397</td>\n",
       "      <td>0.827000</td>\n",
       "      <td>0.330764</td>\n",
       "      <td>0.408716</td>\n",
       "      <td>0.851958</td>\n",
       "      <td>0.790481</td>\n",
       "      <td>1.000000</td>\n",
       "      <td>0.290217</td>\n",
       "      <td>0.035452</td>\n",
       "      <td>0.092684</td>\n",
       "      <td>0.019886</td>\n",
       "      <td>0.187108</td>\n",
       "      <td>0.227808</td>\n",
       "    </tr>\n",
       "    <tr>\n",
       "      <td>Playoffs</td>\n",
       "      <td>0.145779</td>\n",
       "      <td>0.386628</td>\n",
       "      <td>-0.261477</td>\n",
       "      <td>0.616757</td>\n",
       "      <td>0.363890</td>\n",
       "      <td>0.324713</td>\n",
       "      <td>0.290217</td>\n",
       "      <td>1.000000</td>\n",
       "      <td>NaN</td>\n",
       "      <td>NaN</td>\n",
       "      <td>0.022208</td>\n",
       "      <td>-0.433572</td>\n",
       "      <td>-0.366744</td>\n",
       "    </tr>\n",
       "    <tr>\n",
       "      <td>RankSeason</td>\n",
       "      <td>0.385219</td>\n",
       "      <td>-0.027687</td>\n",
       "      <td>0.399141</td>\n",
       "      <td>-0.755098</td>\n",
       "      <td>0.001612</td>\n",
       "      <td>0.126663</td>\n",
       "      <td>0.035452</td>\n",
       "      <td>NaN</td>\n",
       "      <td>1.000000</td>\n",
       "      <td>0.266906</td>\n",
       "      <td>0.069222</td>\n",
       "      <td>0.097731</td>\n",
       "      <td>0.050111</td>\n",
       "    </tr>\n",
       "    <tr>\n",
       "      <td>RankPlayoffs</td>\n",
       "      <td>0.443967</td>\n",
       "      <td>0.210963</td>\n",
       "      <td>0.315128</td>\n",
       "      <td>-0.198960</td>\n",
       "      <td>0.175349</td>\n",
       "      <td>0.271893</td>\n",
       "      <td>0.092684</td>\n",
       "      <td>NaN</td>\n",
       "      <td>0.266906</td>\n",
       "      <td>1.000000</td>\n",
       "      <td>0.007820</td>\n",
       "      <td>0.065808</td>\n",
       "      <td>0.087089</td>\n",
       "    </tr>\n",
       "    <tr>\n",
       "      <td>G</td>\n",
       "      <td>0.009287</td>\n",
       "      <td>0.075195</td>\n",
       "      <td>-0.023369</td>\n",
       "      <td>0.105309</td>\n",
       "      <td>0.016563</td>\n",
       "      <td>0.036770</td>\n",
       "      <td>0.019886</td>\n",
       "      <td>0.022208</td>\n",
       "      <td>0.069222</td>\n",
       "      <td>0.007820</td>\n",
       "      <td>1.000000</td>\n",
       "      <td>-0.077055</td>\n",
       "      <td>-0.004188</td>\n",
       "    </tr>\n",
       "    <tr>\n",
       "      <td>OOBP</td>\n",
       "      <td>-0.371869</td>\n",
       "      <td>0.133981</td>\n",
       "      <td>0.910344</td>\n",
       "      <td>-0.634315</td>\n",
       "      <td>0.120349</td>\n",
       "      <td>0.143861</td>\n",
       "      <td>0.187108</td>\n",
       "      <td>-0.433572</td>\n",
       "      <td>0.097731</td>\n",
       "      <td>0.065808</td>\n",
       "      <td>-0.077055</td>\n",
       "      <td>1.000000</td>\n",
       "      <td>0.830902</td>\n",
       "    </tr>\n",
       "    <tr>\n",
       "      <td>OSLG</td>\n",
       "      <td>-0.345667</td>\n",
       "      <td>0.193426</td>\n",
       "      <td>0.909319</td>\n",
       "      <td>-0.568490</td>\n",
       "      <td>0.153372</td>\n",
       "      <td>0.210423</td>\n",
       "      <td>0.227808</td>\n",
       "      <td>-0.366744</td>\n",
       "      <td>0.050111</td>\n",
       "      <td>0.087089</td>\n",
       "      <td>-0.004188</td>\n",
       "      <td>0.830902</td>\n",
       "      <td>1.000000</td>\n",
       "    </tr>\n",
       "  </tbody>\n",
       "</table>\n",
       "</div>"
      ],
      "text/plain": [
       "                  Year        RS        RA         W       OBP       SLG  \\\n",
       "Year          1.000000  0.418978  0.412020  0.004138  0.374354  0.536037   \n",
       "RS            0.418978  1.000000  0.380139  0.511745  0.900492  0.918740   \n",
       "RA            0.412020  0.380139  1.000000 -0.532394  0.326360  0.436527   \n",
       "W             0.004138  0.511745 -0.532394  1.000000  0.481836  0.401496   \n",
       "OBP           0.374354  0.900492  0.326360  0.481836  1.000000  0.790910   \n",
       "SLG           0.536037  0.918740  0.436527  0.401496  0.790910  1.000000   \n",
       "BA            0.349397  0.827000  0.330764  0.408716  0.851958  0.790481   \n",
       "Playoffs      0.145779  0.386628 -0.261477  0.616757  0.363890  0.324713   \n",
       "RankSeason    0.385219 -0.027687  0.399141 -0.755098  0.001612  0.126663   \n",
       "RankPlayoffs  0.443967  0.210963  0.315128 -0.198960  0.175349  0.271893   \n",
       "G             0.009287  0.075195 -0.023369  0.105309  0.016563  0.036770   \n",
       "OOBP         -0.371869  0.133981  0.910344 -0.634315  0.120349  0.143861   \n",
       "OSLG         -0.345667  0.193426  0.909319 -0.568490  0.153372  0.210423   \n",
       "\n",
       "                    BA  Playoffs  RankSeason  RankPlayoffs         G  \\\n",
       "Year          0.349397  0.145779    0.385219      0.443967  0.009287   \n",
       "RS            0.827000  0.386628   -0.027687      0.210963  0.075195   \n",
       "RA            0.330764 -0.261477    0.399141      0.315128 -0.023369   \n",
       "W             0.408716  0.616757   -0.755098     -0.198960  0.105309   \n",
       "OBP           0.851958  0.363890    0.001612      0.175349  0.016563   \n",
       "SLG           0.790481  0.324713    0.126663      0.271893  0.036770   \n",
       "BA            1.000000  0.290217    0.035452      0.092684  0.019886   \n",
       "Playoffs      0.290217  1.000000         NaN           NaN  0.022208   \n",
       "RankSeason    0.035452       NaN    1.000000      0.266906  0.069222   \n",
       "RankPlayoffs  0.092684       NaN    0.266906      1.000000  0.007820   \n",
       "G             0.019886  0.022208    0.069222      0.007820  1.000000   \n",
       "OOBP          0.187108 -0.433572    0.097731      0.065808 -0.077055   \n",
       "OSLG          0.227808 -0.366744    0.050111      0.087089 -0.004188   \n",
       "\n",
       "                  OOBP      OSLG  \n",
       "Year         -0.371869 -0.345667  \n",
       "RS            0.133981  0.193426  \n",
       "RA            0.910344  0.909319  \n",
       "W            -0.634315 -0.568490  \n",
       "OBP           0.120349  0.153372  \n",
       "SLG           0.143861  0.210423  \n",
       "BA            0.187108  0.227808  \n",
       "Playoffs     -0.433572 -0.366744  \n",
       "RankSeason    0.097731  0.050111  \n",
       "RankPlayoffs  0.065808  0.087089  \n",
       "G            -0.077055 -0.004188  \n",
       "OOBP          1.000000  0.830902  \n",
       "OSLG          0.830902  1.000000  "
      ]
     },
     "execution_count": 4,
     "metadata": {},
     "output_type": "execute_result"
    }
   ],
   "source": [
    "bb.corr()"
   ]
  },
  {
   "cell_type": "code",
   "execution_count": 5,
   "metadata": {
    "colab": {
     "base_uri": "https://localhost:8080/",
     "height": 135
    },
    "colab_type": "code",
    "executionInfo": {
     "elapsed": 1294,
     "status": "ok",
     "timestamp": 1591183601782,
     "user": {
      "displayName": "Utthejh Gade",
      "photoUrl": "https://lh3.googleusercontent.com/a-/AOh14Ggkse30O7zFwf3_ehaf4TWAvINQgJUXDDB7vHph=s64",
      "userId": "16926086647299800832"
     },
     "user_tz": -330
    },
    "id": "RLgPJBIO7uh9",
    "outputId": "55764c0d-b297-4dbe-883e-d49f0bac0bbc"
   },
   "outputs": [
    {
     "data": {
      "text/html": [
       "<div>\n",
       "<style scoped>\n",
       "    .dataframe tbody tr th:only-of-type {\n",
       "        vertical-align: middle;\n",
       "    }\n",
       "\n",
       "    .dataframe tbody tr th {\n",
       "        vertical-align: top;\n",
       "    }\n",
       "\n",
       "    .dataframe thead th {\n",
       "        text-align: right;\n",
       "    }\n",
       "</style>\n",
       "<table border=\"1\" class=\"dataframe\">\n",
       "  <thead>\n",
       "    <tr style=\"text-align: right;\">\n",
       "      <th></th>\n",
       "      <th>Team</th>\n",
       "      <th>League</th>\n",
       "      <th>Year</th>\n",
       "      <th>RS</th>\n",
       "      <th>RA</th>\n",
       "      <th>W</th>\n",
       "      <th>OBP</th>\n",
       "      <th>SLG</th>\n",
       "      <th>BA</th>\n",
       "      <th>Playoffs</th>\n",
       "      <th>RankSeason</th>\n",
       "      <th>RankPlayoffs</th>\n",
       "      <th>G</th>\n",
       "      <th>OOBP</th>\n",
       "      <th>OSLG</th>\n",
       "      <th>RD</th>\n",
       "    </tr>\n",
       "  </thead>\n",
       "  <tbody>\n",
       "    <tr>\n",
       "      <td>0</td>\n",
       "      <td>ARI</td>\n",
       "      <td>NL</td>\n",
       "      <td>2012</td>\n",
       "      <td>734</td>\n",
       "      <td>688</td>\n",
       "      <td>81</td>\n",
       "      <td>0.328</td>\n",
       "      <td>0.418</td>\n",
       "      <td>0.259</td>\n",
       "      <td>0</td>\n",
       "      <td>NaN</td>\n",
       "      <td>NaN</td>\n",
       "      <td>162</td>\n",
       "      <td>0.317</td>\n",
       "      <td>0.415</td>\n",
       "      <td>46</td>\n",
       "    </tr>\n",
       "    <tr>\n",
       "      <td>1</td>\n",
       "      <td>ATL</td>\n",
       "      <td>NL</td>\n",
       "      <td>2012</td>\n",
       "      <td>700</td>\n",
       "      <td>600</td>\n",
       "      <td>94</td>\n",
       "      <td>0.320</td>\n",
       "      <td>0.389</td>\n",
       "      <td>0.247</td>\n",
       "      <td>1</td>\n",
       "      <td>4.0</td>\n",
       "      <td>5.0</td>\n",
       "      <td>162</td>\n",
       "      <td>0.306</td>\n",
       "      <td>0.378</td>\n",
       "      <td>100</td>\n",
       "    </tr>\n",
       "    <tr>\n",
       "      <td>2</td>\n",
       "      <td>BAL</td>\n",
       "      <td>AL</td>\n",
       "      <td>2012</td>\n",
       "      <td>712</td>\n",
       "      <td>705</td>\n",
       "      <td>93</td>\n",
       "      <td>0.311</td>\n",
       "      <td>0.417</td>\n",
       "      <td>0.247</td>\n",
       "      <td>1</td>\n",
       "      <td>5.0</td>\n",
       "      <td>4.0</td>\n",
       "      <td>162</td>\n",
       "      <td>0.315</td>\n",
       "      <td>0.403</td>\n",
       "      <td>7</td>\n",
       "    </tr>\n",
       "  </tbody>\n",
       "</table>\n",
       "</div>"
      ],
      "text/plain": [
       "  Team League  Year   RS   RA   W    OBP    SLG     BA  Playoffs  RankSeason  \\\n",
       "0  ARI     NL  2012  734  688  81  0.328  0.418  0.259         0         NaN   \n",
       "1  ATL     NL  2012  700  600  94  0.320  0.389  0.247         1         4.0   \n",
       "2  BAL     AL  2012  712  705  93  0.311  0.417  0.247         1         5.0   \n",
       "\n",
       "   RankPlayoffs    G   OOBP   OSLG   RD  \n",
       "0           NaN  162  0.317  0.415   46  \n",
       "1           5.0  162  0.306  0.378  100  \n",
       "2           4.0  162  0.315  0.403    7  "
      ]
     },
     "execution_count": 5,
     "metadata": {},
     "output_type": "execute_result"
    }
   ],
   "source": [
    "# Creating a new column called RD (Runs Difference) by Runs Scored - Runs Allowed\n",
    "\n",
    "bb['RD'] = bb['RS'] - bb['RA']\n",
    "bb.head(3)"
   ]
  },
  {
   "cell_type": "code",
   "execution_count": 6,
   "metadata": {
    "colab": {
     "base_uri": "https://localhost:8080/",
     "height": 458
    },
    "colab_type": "code",
    "executionInfo": {
     "elapsed": 820,
     "status": "ok",
     "timestamp": 1591143107784,
     "user": {
      "displayName": "Utthejh Gade",
      "photoUrl": "https://lh3.googleusercontent.com/a-/AOh14Ggkse30O7zFwf3_ehaf4TWAvINQgJUXDDB7vHph=s64",
      "userId": "16926086647299800832"
     },
     "user_tz": -330
    },
    "id": "NeOtqej_8EYv",
    "outputId": "8cb23ded-8d58-48e3-9d20-278f081a615c"
   },
   "outputs": [
    {
     "data": {
      "text/html": [
       "<div>\n",
       "<style scoped>\n",
       "    .dataframe tbody tr th:only-of-type {\n",
       "        vertical-align: middle;\n",
       "    }\n",
       "\n",
       "    .dataframe tbody tr th {\n",
       "        vertical-align: top;\n",
       "    }\n",
       "\n",
       "    .dataframe thead th {\n",
       "        text-align: right;\n",
       "    }\n",
       "</style>\n",
       "<table border=\"1\" class=\"dataframe\">\n",
       "  <thead>\n",
       "    <tr style=\"text-align: right;\">\n",
       "      <th></th>\n",
       "      <th>Year</th>\n",
       "      <th>RS</th>\n",
       "      <th>RA</th>\n",
       "      <th>W</th>\n",
       "      <th>OBP</th>\n",
       "      <th>SLG</th>\n",
       "      <th>BA</th>\n",
       "      <th>Playoffs</th>\n",
       "      <th>RankSeason</th>\n",
       "      <th>RankPlayoffs</th>\n",
       "      <th>G</th>\n",
       "      <th>OOBP</th>\n",
       "      <th>OSLG</th>\n",
       "      <th>RD</th>\n",
       "    </tr>\n",
       "  </thead>\n",
       "  <tbody>\n",
       "    <tr>\n",
       "      <td>Year</td>\n",
       "      <td>1.000000e+00</td>\n",
       "      <td>0.418978</td>\n",
       "      <td>0.412020</td>\n",
       "      <td>0.004138</td>\n",
       "      <td>0.374354</td>\n",
       "      <td>0.536037</td>\n",
       "      <td>0.349397</td>\n",
       "      <td>0.145779</td>\n",
       "      <td>0.385219</td>\n",
       "      <td>0.443967</td>\n",
       "      <td>0.009287</td>\n",
       "      <td>-0.371869</td>\n",
       "      <td>-0.345667</td>\n",
       "      <td>2.182660e-18</td>\n",
       "    </tr>\n",
       "    <tr>\n",
       "      <td>RS</td>\n",
       "      <td>4.189775e-01</td>\n",
       "      <td>1.000000</td>\n",
       "      <td>0.380139</td>\n",
       "      <td>0.511745</td>\n",
       "      <td>0.900492</td>\n",
       "      <td>0.918740</td>\n",
       "      <td>0.827000</td>\n",
       "      <td>0.386628</td>\n",
       "      <td>-0.027687</td>\n",
       "      <td>0.210963</td>\n",
       "      <td>0.075195</td>\n",
       "      <td>0.133981</td>\n",
       "      <td>0.193426</td>\n",
       "      <td>5.462938e-01</td>\n",
       "    </tr>\n",
       "    <tr>\n",
       "      <td>RA</td>\n",
       "      <td>4.120202e-01</td>\n",
       "      <td>0.380139</td>\n",
       "      <td>1.000000</td>\n",
       "      <td>-0.532394</td>\n",
       "      <td>0.326360</td>\n",
       "      <td>0.436527</td>\n",
       "      <td>0.330764</td>\n",
       "      <td>-0.261477</td>\n",
       "      <td>0.399141</td>\n",
       "      <td>0.315128</td>\n",
       "      <td>-0.023369</td>\n",
       "      <td>0.910344</td>\n",
       "      <td>0.909319</td>\n",
       "      <td>-5.670477e-01</td>\n",
       "    </tr>\n",
       "    <tr>\n",
       "      <td>W</td>\n",
       "      <td>4.138248e-03</td>\n",
       "      <td>0.511745</td>\n",
       "      <td>-0.532394</td>\n",
       "      <td>1.000000</td>\n",
       "      <td>0.481836</td>\n",
       "      <td>0.401496</td>\n",
       "      <td>0.408716</td>\n",
       "      <td>0.616757</td>\n",
       "      <td>-0.755098</td>\n",
       "      <td>-0.198960</td>\n",
       "      <td>0.105309</td>\n",
       "      <td>-0.634315</td>\n",
       "      <td>-0.568490</td>\n",
       "      <td>9.378511e-01</td>\n",
       "    </tr>\n",
       "    <tr>\n",
       "      <td>OBP</td>\n",
       "      <td>3.743545e-01</td>\n",
       "      <td>0.900492</td>\n",
       "      <td>0.326360</td>\n",
       "      <td>0.481836</td>\n",
       "      <td>1.000000</td>\n",
       "      <td>0.790910</td>\n",
       "      <td>0.851958</td>\n",
       "      <td>0.363890</td>\n",
       "      <td>0.001612</td>\n",
       "      <td>0.175349</td>\n",
       "      <td>0.016563</td>\n",
       "      <td>0.120349</td>\n",
       "      <td>0.153372</td>\n",
       "      <td>5.063794e-01</td>\n",
       "    </tr>\n",
       "    <tr>\n",
       "      <td>SLG</td>\n",
       "      <td>5.360371e-01</td>\n",
       "      <td>0.918740</td>\n",
       "      <td>0.436527</td>\n",
       "      <td>0.401496</td>\n",
       "      <td>0.790910</td>\n",
       "      <td>1.000000</td>\n",
       "      <td>0.790481</td>\n",
       "      <td>0.324713</td>\n",
       "      <td>0.126663</td>\n",
       "      <td>0.271893</td>\n",
       "      <td>0.036770</td>\n",
       "      <td>0.143861</td>\n",
       "      <td>0.210423</td>\n",
       "      <td>4.228647e-01</td>\n",
       "    </tr>\n",
       "    <tr>\n",
       "      <td>BA</td>\n",
       "      <td>3.493972e-01</td>\n",
       "      <td>0.827000</td>\n",
       "      <td>0.330764</td>\n",
       "      <td>0.408716</td>\n",
       "      <td>0.851958</td>\n",
       "      <td>0.790481</td>\n",
       "      <td>1.000000</td>\n",
       "      <td>0.290217</td>\n",
       "      <td>0.035452</td>\n",
       "      <td>0.092684</td>\n",
       "      <td>0.019886</td>\n",
       "      <td>0.187108</td>\n",
       "      <td>0.227808</td>\n",
       "      <td>4.369427e-01</td>\n",
       "    </tr>\n",
       "    <tr>\n",
       "      <td>Playoffs</td>\n",
       "      <td>1.457787e-01</td>\n",
       "      <td>0.386628</td>\n",
       "      <td>-0.261477</td>\n",
       "      <td>0.616757</td>\n",
       "      <td>0.363890</td>\n",
       "      <td>0.324713</td>\n",
       "      <td>0.290217</td>\n",
       "      <td>1.000000</td>\n",
       "      <td>NaN</td>\n",
       "      <td>NaN</td>\n",
       "      <td>0.022208</td>\n",
       "      <td>-0.433572</td>\n",
       "      <td>-0.366744</td>\n",
       "      <td>5.810944e-01</td>\n",
       "    </tr>\n",
       "    <tr>\n",
       "      <td>RankSeason</td>\n",
       "      <td>3.852191e-01</td>\n",
       "      <td>-0.027687</td>\n",
       "      <td>0.399141</td>\n",
       "      <td>-0.755098</td>\n",
       "      <td>0.001612</td>\n",
       "      <td>0.126663</td>\n",
       "      <td>0.035452</td>\n",
       "      <td>NaN</td>\n",
       "      <td>1.000000</td>\n",
       "      <td>0.266906</td>\n",
       "      <td>0.069222</td>\n",
       "      <td>0.097731</td>\n",
       "      <td>0.050111</td>\n",
       "      <td>-5.806451e-01</td>\n",
       "    </tr>\n",
       "    <tr>\n",
       "      <td>RankPlayoffs</td>\n",
       "      <td>4.439670e-01</td>\n",
       "      <td>0.210963</td>\n",
       "      <td>0.315128</td>\n",
       "      <td>-0.198960</td>\n",
       "      <td>0.175349</td>\n",
       "      <td>0.271893</td>\n",
       "      <td>0.092684</td>\n",
       "      <td>NaN</td>\n",
       "      <td>0.266906</td>\n",
       "      <td>1.000000</td>\n",
       "      <td>0.007820</td>\n",
       "      <td>0.065808</td>\n",
       "      <td>0.087089</td>\n",
       "      <td>-1.312351e-01</td>\n",
       "    </tr>\n",
       "    <tr>\n",
       "      <td>G</td>\n",
       "      <td>9.286806e-03</td>\n",
       "      <td>0.075195</td>\n",
       "      <td>-0.023369</td>\n",
       "      <td>0.105309</td>\n",
       "      <td>0.016563</td>\n",
       "      <td>0.036770</td>\n",
       "      <td>0.019886</td>\n",
       "      <td>0.022208</td>\n",
       "      <td>0.069222</td>\n",
       "      <td>0.007820</td>\n",
       "      <td>1.000000</td>\n",
       "      <td>-0.077055</td>\n",
       "      <td>-0.004188</td>\n",
       "      <td>8.812638e-02</td>\n",
       "    </tr>\n",
       "    <tr>\n",
       "      <td>OOBP</td>\n",
       "      <td>-3.718695e-01</td>\n",
       "      <td>0.133981</td>\n",
       "      <td>0.910344</td>\n",
       "      <td>-0.634315</td>\n",
       "      <td>0.120349</td>\n",
       "      <td>0.143861</td>\n",
       "      <td>0.187108</td>\n",
       "      <td>-0.433572</td>\n",
       "      <td>0.097731</td>\n",
       "      <td>0.065808</td>\n",
       "      <td>-0.077055</td>\n",
       "      <td>1.000000</td>\n",
       "      <td>0.830902</td>\n",
       "      <td>-6.328714e-01</td>\n",
       "    </tr>\n",
       "    <tr>\n",
       "      <td>OSLG</td>\n",
       "      <td>-3.456670e-01</td>\n",
       "      <td>0.193426</td>\n",
       "      <td>0.909319</td>\n",
       "      <td>-0.568490</td>\n",
       "      <td>0.153372</td>\n",
       "      <td>0.210423</td>\n",
       "      <td>0.227808</td>\n",
       "      <td>-0.366744</td>\n",
       "      <td>0.050111</td>\n",
       "      <td>0.087089</td>\n",
       "      <td>-0.004188</td>\n",
       "      <td>0.830902</td>\n",
       "      <td>1.000000</td>\n",
       "      <td>-5.862272e-01</td>\n",
       "    </tr>\n",
       "    <tr>\n",
       "      <td>RD</td>\n",
       "      <td>2.182660e-18</td>\n",
       "      <td>0.546294</td>\n",
       "      <td>-0.567048</td>\n",
       "      <td>0.937851</td>\n",
       "      <td>0.506379</td>\n",
       "      <td>0.422865</td>\n",
       "      <td>0.436943</td>\n",
       "      <td>0.581094</td>\n",
       "      <td>-0.580645</td>\n",
       "      <td>-0.131235</td>\n",
       "      <td>0.088126</td>\n",
       "      <td>-0.632871</td>\n",
       "      <td>-0.586227</td>\n",
       "      <td>1.000000e+00</td>\n",
       "    </tr>\n",
       "  </tbody>\n",
       "</table>\n",
       "</div>"
      ],
      "text/plain": [
       "                      Year        RS        RA         W       OBP       SLG  \\\n",
       "Year          1.000000e+00  0.418978  0.412020  0.004138  0.374354  0.536037   \n",
       "RS            4.189775e-01  1.000000  0.380139  0.511745  0.900492  0.918740   \n",
       "RA            4.120202e-01  0.380139  1.000000 -0.532394  0.326360  0.436527   \n",
       "W             4.138248e-03  0.511745 -0.532394  1.000000  0.481836  0.401496   \n",
       "OBP           3.743545e-01  0.900492  0.326360  0.481836  1.000000  0.790910   \n",
       "SLG           5.360371e-01  0.918740  0.436527  0.401496  0.790910  1.000000   \n",
       "BA            3.493972e-01  0.827000  0.330764  0.408716  0.851958  0.790481   \n",
       "Playoffs      1.457787e-01  0.386628 -0.261477  0.616757  0.363890  0.324713   \n",
       "RankSeason    3.852191e-01 -0.027687  0.399141 -0.755098  0.001612  0.126663   \n",
       "RankPlayoffs  4.439670e-01  0.210963  0.315128 -0.198960  0.175349  0.271893   \n",
       "G             9.286806e-03  0.075195 -0.023369  0.105309  0.016563  0.036770   \n",
       "OOBP         -3.718695e-01  0.133981  0.910344 -0.634315  0.120349  0.143861   \n",
       "OSLG         -3.456670e-01  0.193426  0.909319 -0.568490  0.153372  0.210423   \n",
       "RD            2.182660e-18  0.546294 -0.567048  0.937851  0.506379  0.422865   \n",
       "\n",
       "                    BA  Playoffs  RankSeason  RankPlayoffs         G  \\\n",
       "Year          0.349397  0.145779    0.385219      0.443967  0.009287   \n",
       "RS            0.827000  0.386628   -0.027687      0.210963  0.075195   \n",
       "RA            0.330764 -0.261477    0.399141      0.315128 -0.023369   \n",
       "W             0.408716  0.616757   -0.755098     -0.198960  0.105309   \n",
       "OBP           0.851958  0.363890    0.001612      0.175349  0.016563   \n",
       "SLG           0.790481  0.324713    0.126663      0.271893  0.036770   \n",
       "BA            1.000000  0.290217    0.035452      0.092684  0.019886   \n",
       "Playoffs      0.290217  1.000000         NaN           NaN  0.022208   \n",
       "RankSeason    0.035452       NaN    1.000000      0.266906  0.069222   \n",
       "RankPlayoffs  0.092684       NaN    0.266906      1.000000  0.007820   \n",
       "G             0.019886  0.022208    0.069222      0.007820  1.000000   \n",
       "OOBP          0.187108 -0.433572    0.097731      0.065808 -0.077055   \n",
       "OSLG          0.227808 -0.366744    0.050111      0.087089 -0.004188   \n",
       "RD            0.436943  0.581094   -0.580645     -0.131235  0.088126   \n",
       "\n",
       "                  OOBP      OSLG            RD  \n",
       "Year         -0.371869 -0.345667  2.182660e-18  \n",
       "RS            0.133981  0.193426  5.462938e-01  \n",
       "RA            0.910344  0.909319 -5.670477e-01  \n",
       "W            -0.634315 -0.568490  9.378511e-01  \n",
       "OBP           0.120349  0.153372  5.063794e-01  \n",
       "SLG           0.143861  0.210423  4.228647e-01  \n",
       "BA            0.187108  0.227808  4.369427e-01  \n",
       "Playoffs     -0.433572 -0.366744  5.810944e-01  \n",
       "RankSeason    0.097731  0.050111 -5.806451e-01  \n",
       "RankPlayoffs  0.065808  0.087089 -1.312351e-01  \n",
       "G            -0.077055 -0.004188  8.812638e-02  \n",
       "OOBP          1.000000  0.830902 -6.328714e-01  \n",
       "OSLG          0.830902  1.000000 -5.862272e-01  \n",
       "RD           -0.632871 -0.586227  1.000000e+00  "
      ]
     },
     "execution_count": 6,
     "metadata": {},
     "output_type": "execute_result"
    }
   ],
   "source": [
    "bb.corr()"
   ]
  },
  {
   "cell_type": "markdown",
   "metadata": {
    "colab_type": "text",
    "id": "lXjPnDKx8Nnd"
   },
   "source": [
    "This dataset spans across multiple years the idea is to replicate the results in the year 2002, we will only do the analysis on data before 2002. "
   ]
  },
  {
   "cell_type": "code",
   "execution_count": 7,
   "metadata": {
    "colab": {
     "base_uri": "https://localhost:8080/",
     "height": 194
    },
    "colab_type": "code",
    "executionInfo": {
     "elapsed": 1042,
     "status": "ok",
     "timestamp": 1591183606064,
     "user": {
      "displayName": "Utthejh Gade",
      "photoUrl": "https://lh3.googleusercontent.com/a-/AOh14Ggkse30O7zFwf3_ehaf4TWAvINQgJUXDDB7vHph=s64",
      "userId": "16926086647299800832"
     },
     "user_tz": -330
    },
    "id": "vljIkH-P8dmx",
    "outputId": "c80c4ca4-3f93-4275-cea4-b34d5f829e00"
   },
   "outputs": [
    {
     "data": {
      "text/html": [
       "<div>\n",
       "<style scoped>\n",
       "    .dataframe tbody tr th:only-of-type {\n",
       "        vertical-align: middle;\n",
       "    }\n",
       "\n",
       "    .dataframe tbody tr th {\n",
       "        vertical-align: top;\n",
       "    }\n",
       "\n",
       "    .dataframe thead th {\n",
       "        text-align: right;\n",
       "    }\n",
       "</style>\n",
       "<table border=\"1\" class=\"dataframe\">\n",
       "  <thead>\n",
       "    <tr style=\"text-align: right;\">\n",
       "      <th></th>\n",
       "      <th>Team</th>\n",
       "      <th>League</th>\n",
       "      <th>Year</th>\n",
       "      <th>RS</th>\n",
       "      <th>RA</th>\n",
       "      <th>W</th>\n",
       "      <th>OBP</th>\n",
       "      <th>SLG</th>\n",
       "      <th>BA</th>\n",
       "      <th>Playoffs</th>\n",
       "      <th>RankSeason</th>\n",
       "      <th>RankPlayoffs</th>\n",
       "      <th>G</th>\n",
       "      <th>OOBP</th>\n",
       "      <th>OSLG</th>\n",
       "      <th>RD</th>\n",
       "    </tr>\n",
       "  </thead>\n",
       "  <tbody>\n",
       "    <tr>\n",
       "      <td>330</td>\n",
       "      <td>ANA</td>\n",
       "      <td>AL</td>\n",
       "      <td>2001</td>\n",
       "      <td>691</td>\n",
       "      <td>730</td>\n",
       "      <td>75</td>\n",
       "      <td>0.327</td>\n",
       "      <td>0.405</td>\n",
       "      <td>0.261</td>\n",
       "      <td>0</td>\n",
       "      <td>NaN</td>\n",
       "      <td>NaN</td>\n",
       "      <td>162</td>\n",
       "      <td>0.331</td>\n",
       "      <td>0.412</td>\n",
       "      <td>-39</td>\n",
       "    </tr>\n",
       "    <tr>\n",
       "      <td>331</td>\n",
       "      <td>ARI</td>\n",
       "      <td>NL</td>\n",
       "      <td>2001</td>\n",
       "      <td>818</td>\n",
       "      <td>677</td>\n",
       "      <td>92</td>\n",
       "      <td>0.341</td>\n",
       "      <td>0.442</td>\n",
       "      <td>0.267</td>\n",
       "      <td>1</td>\n",
       "      <td>5.0</td>\n",
       "      <td>1.0</td>\n",
       "      <td>162</td>\n",
       "      <td>0.311</td>\n",
       "      <td>0.404</td>\n",
       "      <td>141</td>\n",
       "    </tr>\n",
       "    <tr>\n",
       "      <td>332</td>\n",
       "      <td>ATL</td>\n",
       "      <td>NL</td>\n",
       "      <td>2001</td>\n",
       "      <td>729</td>\n",
       "      <td>643</td>\n",
       "      <td>88</td>\n",
       "      <td>0.324</td>\n",
       "      <td>0.412</td>\n",
       "      <td>0.260</td>\n",
       "      <td>1</td>\n",
       "      <td>7.0</td>\n",
       "      <td>3.0</td>\n",
       "      <td>162</td>\n",
       "      <td>0.314</td>\n",
       "      <td>0.384</td>\n",
       "      <td>86</td>\n",
       "    </tr>\n",
       "    <tr>\n",
       "      <td>333</td>\n",
       "      <td>BAL</td>\n",
       "      <td>AL</td>\n",
       "      <td>2001</td>\n",
       "      <td>687</td>\n",
       "      <td>829</td>\n",
       "      <td>63</td>\n",
       "      <td>0.319</td>\n",
       "      <td>0.380</td>\n",
       "      <td>0.248</td>\n",
       "      <td>0</td>\n",
       "      <td>NaN</td>\n",
       "      <td>NaN</td>\n",
       "      <td>162</td>\n",
       "      <td>0.337</td>\n",
       "      <td>0.439</td>\n",
       "      <td>-142</td>\n",
       "    </tr>\n",
       "    <tr>\n",
       "      <td>334</td>\n",
       "      <td>BOS</td>\n",
       "      <td>AL</td>\n",
       "      <td>2001</td>\n",
       "      <td>772</td>\n",
       "      <td>745</td>\n",
       "      <td>82</td>\n",
       "      <td>0.334</td>\n",
       "      <td>0.439</td>\n",
       "      <td>0.266</td>\n",
       "      <td>0</td>\n",
       "      <td>NaN</td>\n",
       "      <td>NaN</td>\n",
       "      <td>161</td>\n",
       "      <td>0.329</td>\n",
       "      <td>0.393</td>\n",
       "      <td>27</td>\n",
       "    </tr>\n",
       "  </tbody>\n",
       "</table>\n",
       "</div>"
      ],
      "text/plain": [
       "    Team League  Year   RS   RA   W    OBP    SLG     BA  Playoffs  \\\n",
       "330  ANA     AL  2001  691  730  75  0.327  0.405  0.261         0   \n",
       "331  ARI     NL  2001  818  677  92  0.341  0.442  0.267         1   \n",
       "332  ATL     NL  2001  729  643  88  0.324  0.412  0.260         1   \n",
       "333  BAL     AL  2001  687  829  63  0.319  0.380  0.248         0   \n",
       "334  BOS     AL  2001  772  745  82  0.334  0.439  0.266         0   \n",
       "\n",
       "     RankSeason  RankPlayoffs    G   OOBP   OSLG   RD  \n",
       "330         NaN           NaN  162  0.331  0.412  -39  \n",
       "331         5.0           1.0  162  0.311  0.404  141  \n",
       "332         7.0           3.0  162  0.314  0.384   86  \n",
       "333         NaN           NaN  162  0.337  0.439 -142  \n",
       "334         NaN           NaN  161  0.329  0.393   27  "
      ]
     },
     "execution_count": 7,
     "metadata": {},
     "output_type": "execute_result"
    }
   ],
   "source": [
    "df = bb[bb['Year']<2002]\n",
    "df.head()"
   ]
  },
  {
   "cell_type": "code",
   "execution_count": 8,
   "metadata": {
    "colab": {
     "base_uri": "https://localhost:8080/",
     "height": 35
    },
    "colab_type": "code",
    "executionInfo": {
     "elapsed": 2416,
     "status": "ok",
     "timestamp": 1591143110054,
     "user": {
      "displayName": "Utthejh Gade",
      "photoUrl": "https://lh3.googleusercontent.com/a-/AOh14Ggkse30O7zFwf3_ehaf4TWAvINQgJUXDDB7vHph=s64",
      "userId": "16926086647299800832"
     },
     "user_tz": -330
    },
    "id": "LfqNCOj18vgR",
    "outputId": "6b7d679c-0433-4a53-a374-171773bebe03"
   },
   "outputs": [
    {
     "data": {
      "text/plain": [
       "(902, 16)"
      ]
     },
     "execution_count": 8,
     "metadata": {},
     "output_type": "execute_result"
    }
   ],
   "source": [
    "df.shape"
   ]
  },
  {
   "cell_type": "markdown",
   "metadata": {
    "colab_type": "text",
    "id": "cflM4fy_4ltU"
   },
   "source": [
    "#**EDA**"
   ]
  },
  {
   "cell_type": "code",
   "execution_count": 9,
   "metadata": {
    "colab": {
     "base_uri": "https://localhost:8080/",
     "height": 283
    },
    "colab_type": "code",
    "executionInfo": {
     "elapsed": 2891,
     "status": "ok",
     "timestamp": 1591143110765,
     "user": {
      "displayName": "Utthejh Gade",
      "photoUrl": "https://lh3.googleusercontent.com/a-/AOh14Ggkse30O7zFwf3_ehaf4TWAvINQgJUXDDB7vHph=s64",
      "userId": "16926086647299800832"
     },
     "user_tz": -330
    },
    "id": "tX4yGrZg8w1n",
    "outputId": "f2477901-64e9-423c-cb8f-f7b3d37a6ea7"
   },
   "outputs": [
    {
     "data": {
      "text/plain": [
       "<matplotlib.axes._subplots.AxesSubplot at 0x186d8fe8ac8>"
      ]
     },
     "execution_count": 9,
     "metadata": {},
     "output_type": "execute_result"
    },
    {
     "data": {
      "image/png": "[encoded data removed]",
      "text/plain": [
       "<Figure size 432x288 with 1 Axes>"
      ]
     },
     "metadata": {
      "needs_background": "light"
     },
     "output_type": "display_data"
    }
   ],
   "source": [
    "df['RS'].hist(bins = 50)\n",
    "\n",
    "#Normal Distribtution"
   ]
  },
  {
   "cell_type": "code",
   "execution_count": 10,
   "metadata": {
    "colab": {
     "base_uri": "https://localhost:8080/",
     "height": 283
    },
    "colab_type": "code",
    "executionInfo": {
     "elapsed": 1341,
     "status": "ok",
     "timestamp": 1591182425967,
     "user": {
      "displayName": "Utthejh Gade",
      "photoUrl": "https://lh3.googleusercontent.com/a-/AOh14Ggkse30O7zFwf3_ehaf4TWAvINQgJUXDDB7vHph=s64",
      "userId": "16926086647299800832"
     },
     "user_tz": -330
    },
    "id": "KaEspFM_-y9Q",
    "outputId": "d74f32fd-58d9-48b8-be44-87354c8672e5"
   },
   "outputs": [
    {
     "data": {
      "text/plain": [
       "<matplotlib.axes._subplots.AxesSubplot at 0x186d945cd88>"
      ]
     },
     "execution_count": 10,
     "metadata": {},
     "output_type": "execute_result"
    },
    {
     "data": {
      "image/png": "[encoded data removed]",
      "text/plain": [
       "<Figure size 432x288 with 1 Axes>"
      ]
     },
     "metadata": {
      "needs_background": "light"
     },
     "output_type": "display_data"
    }
   ],
   "source": [
    "df['RA'].hist(bins = 50)\n",
    "\n",
    "#Normal Distribtution"
   ]
  },
  {
   "cell_type": "code",
   "execution_count": 11,
   "metadata": {
    "colab": {
     "base_uri": "https://localhost:8080/",
     "height": 283
    },
    "colab_type": "code",
    "executionInfo": {
     "elapsed": 2408,
     "status": "ok",
     "timestamp": 1591143110766,
     "user": {
      "displayName": "Utthejh Gade",
      "photoUrl": "https://lh3.googleusercontent.com/a-/AOh14Ggkse30O7zFwf3_ehaf4TWAvINQgJUXDDB7vHph=s64",
      "userId": "16926086647299800832"
     },
     "user_tz": -330
    },
    "id": "yptNmuYm-y_2",
    "outputId": "88813de2-27cb-4fa0-a431-0260485cb010"
   },
   "outputs": [
    {
     "data": {
      "text/plain": [
       "<matplotlib.axes._subplots.AxesSubplot at 0x186d9568348>"
      ]
     },
     "execution_count": 11,
     "metadata": {},
     "output_type": "execute_result"
    },
    {
     "data": {
      "image/png": "[encoded data removed]",
      "text/plain": [
       "<Figure size 432x288 with 1 Axes>"
      ]
     },
     "metadata": {
      "needs_background": "light"
     },
     "output_type": "display_data"
    }
   ],
   "source": [
    "df['OBP'].hist(bins = 50)\n",
    "\n",
    "#Normal Distribtution"
   ]
  },
  {
   "cell_type": "code",
   "execution_count": 12,
   "metadata": {
    "colab": {
     "base_uri": "https://localhost:8080/",
     "height": 283
    },
    "colab_type": "code",
    "executionInfo": {
     "elapsed": 2957,
     "status": "ok",
     "timestamp": 1591143111553,
     "user": {
      "displayName": "Utthejh Gade",
      "photoUrl": "https://lh3.googleusercontent.com/a-/AOh14Ggkse30O7zFwf3_ehaf4TWAvINQgJUXDDB7vHph=s64",
      "userId": "16926086647299800832"
     },
     "user_tz": -330
    },
    "id": "6PLpTyH6-zCM",
    "outputId": "2bee5566-b625-4936-db8c-ea55a553e5e7"
   },
   "outputs": [
    {
     "data": {
      "text/plain": [
       "<matplotlib.axes._subplots.AxesSubplot at 0x186d9653f88>"
      ]
     },
     "execution_count": 12,
     "metadata": {},
     "output_type": "execute_result"
    },
    {
     "data": {
      "image/png": "[encoded data removed]",
      "text/plain": [
       "<Figure size 432x288 with 1 Axes>"
      ]
     },
     "metadata": {
      "needs_background": "light"
     },
     "output_type": "display_data"
    }
   ],
   "source": [
    "df['SLG'].hist(bins = 50)\n",
    "\n",
    "#Normal Distribution"
   ]
  },
  {
   "cell_type": "code",
   "execution_count": null,
   "metadata": {
    "colab": {},
    "colab_type": "code",
    "id": "oDoX91-j-zFk"
   },
   "outputs": [],
   "source": []
  },
  {
   "cell_type": "code",
   "execution_count": 13,
   "metadata": {
    "colab": {},
    "colab_type": "code",
    "id": "eV2vjLzA9BnR"
   },
   "outputs": [],
   "source": [
    "#Divide the dataset into teams which made the playsoffs\n",
    "\n",
    "df_playoff = df.groupby('Playoffs')\n",
    "df_playoff_0 = df_playoff.get_group(0)\n",
    "df_playoff_1 = df_playoff.get_group(1)"
   ]
  },
  {
   "cell_type": "code",
   "execution_count": 14,
   "metadata": {
    "colab": {
     "base_uri": "https://localhost:8080/",
     "height": 194
    },
    "colab_type": "code",
    "executionInfo": {
     "elapsed": 1084,
     "status": "ok",
     "timestamp": 1591182447451,
     "user": {
      "displayName": "Utthejh Gade",
      "photoUrl": "https://lh3.googleusercontent.com/a-/AOh14Ggkse30O7zFwf3_ehaf4TWAvINQgJUXDDB7vHph=s64",
      "userId": "16926086647299800832"
     },
     "user_tz": -330
    },
    "id": "Ubrg73rZ_Sgf",
    "outputId": "276fb304-2e14-43ff-9694-b7b2dcd9464d"
   },
   "outputs": [
    {
     "data": {
      "text/html": [
       "<div>\n",
       "<style scoped>\n",
       "    .dataframe tbody tr th:only-of-type {\n",
       "        vertical-align: middle;\n",
       "    }\n",
       "\n",
       "    .dataframe tbody tr th {\n",
       "        vertical-align: top;\n",
       "    }\n",
       "\n",
       "    .dataframe thead th {\n",
       "        text-align: right;\n",
       "    }\n",
       "</style>\n",
       "<table border=\"1\" class=\"dataframe\">\n",
       "  <thead>\n",
       "    <tr style=\"text-align: right;\">\n",
       "      <th></th>\n",
       "      <th>Team</th>\n",
       "      <th>League</th>\n",
       "      <th>Year</th>\n",
       "      <th>RS</th>\n",
       "      <th>RA</th>\n",
       "      <th>W</th>\n",
       "      <th>OBP</th>\n",
       "      <th>SLG</th>\n",
       "      <th>BA</th>\n",
       "      <th>Playoffs</th>\n",
       "      <th>RankSeason</th>\n",
       "      <th>RankPlayoffs</th>\n",
       "      <th>G</th>\n",
       "      <th>OOBP</th>\n",
       "      <th>OSLG</th>\n",
       "      <th>RD</th>\n",
       "    </tr>\n",
       "  </thead>\n",
       "  <tbody>\n",
       "    <tr>\n",
       "      <td>330</td>\n",
       "      <td>ANA</td>\n",
       "      <td>AL</td>\n",
       "      <td>2001</td>\n",
       "      <td>691</td>\n",
       "      <td>730</td>\n",
       "      <td>75</td>\n",
       "      <td>0.327</td>\n",
       "      <td>0.405</td>\n",
       "      <td>0.261</td>\n",
       "      <td>0</td>\n",
       "      <td>NaN</td>\n",
       "      <td>NaN</td>\n",
       "      <td>162</td>\n",
       "      <td>0.331</td>\n",
       "      <td>0.412</td>\n",
       "      <td>-39</td>\n",
       "    </tr>\n",
       "    <tr>\n",
       "      <td>333</td>\n",
       "      <td>BAL</td>\n",
       "      <td>AL</td>\n",
       "      <td>2001</td>\n",
       "      <td>687</td>\n",
       "      <td>829</td>\n",
       "      <td>63</td>\n",
       "      <td>0.319</td>\n",
       "      <td>0.380</td>\n",
       "      <td>0.248</td>\n",
       "      <td>0</td>\n",
       "      <td>NaN</td>\n",
       "      <td>NaN</td>\n",
       "      <td>162</td>\n",
       "      <td>0.337</td>\n",
       "      <td>0.439</td>\n",
       "      <td>-142</td>\n",
       "    </tr>\n",
       "    <tr>\n",
       "      <td>334</td>\n",
       "      <td>BOS</td>\n",
       "      <td>AL</td>\n",
       "      <td>2001</td>\n",
       "      <td>772</td>\n",
       "      <td>745</td>\n",
       "      <td>82</td>\n",
       "      <td>0.334</td>\n",
       "      <td>0.439</td>\n",
       "      <td>0.266</td>\n",
       "      <td>0</td>\n",
       "      <td>NaN</td>\n",
       "      <td>NaN</td>\n",
       "      <td>161</td>\n",
       "      <td>0.329</td>\n",
       "      <td>0.393</td>\n",
       "      <td>27</td>\n",
       "    </tr>\n",
       "    <tr>\n",
       "      <td>335</td>\n",
       "      <td>CHC</td>\n",
       "      <td>NL</td>\n",
       "      <td>2001</td>\n",
       "      <td>777</td>\n",
       "      <td>701</td>\n",
       "      <td>88</td>\n",
       "      <td>0.336</td>\n",
       "      <td>0.430</td>\n",
       "      <td>0.261</td>\n",
       "      <td>0</td>\n",
       "      <td>NaN</td>\n",
       "      <td>NaN</td>\n",
       "      <td>162</td>\n",
       "      <td>0.321</td>\n",
       "      <td>0.398</td>\n",
       "      <td>76</td>\n",
       "    </tr>\n",
       "    <tr>\n",
       "      <td>336</td>\n",
       "      <td>CHW</td>\n",
       "      <td>AL</td>\n",
       "      <td>2001</td>\n",
       "      <td>798</td>\n",
       "      <td>795</td>\n",
       "      <td>83</td>\n",
       "      <td>0.334</td>\n",
       "      <td>0.451</td>\n",
       "      <td>0.268</td>\n",
       "      <td>0</td>\n",
       "      <td>NaN</td>\n",
       "      <td>NaN</td>\n",
       "      <td>162</td>\n",
       "      <td>0.334</td>\n",
       "      <td>0.427</td>\n",
       "      <td>3</td>\n",
       "    </tr>\n",
       "  </tbody>\n",
       "</table>\n",
       "</div>"
      ],
      "text/plain": [
       "    Team League  Year   RS   RA   W    OBP    SLG     BA  Playoffs  \\\n",
       "330  ANA     AL  2001  691  730  75  0.327  0.405  0.261         0   \n",
       "333  BAL     AL  2001  687  829  63  0.319  0.380  0.248         0   \n",
       "334  BOS     AL  2001  772  745  82  0.334  0.439  0.266         0   \n",
       "335  CHC     NL  2001  777  701  88  0.336  0.430  0.261         0   \n",
       "336  CHW     AL  2001  798  795  83  0.334  0.451  0.268         0   \n",
       "\n",
       "     RankSeason  RankPlayoffs    G   OOBP   OSLG   RD  \n",
       "330         NaN           NaN  162  0.331  0.412  -39  \n",
       "333         NaN           NaN  162  0.337  0.439 -142  \n",
       "334         NaN           NaN  161  0.329  0.393   27  \n",
       "335         NaN           NaN  162  0.321  0.398   76  \n",
       "336         NaN           NaN  162  0.334  0.427    3  "
      ]
     },
     "execution_count": 14,
     "metadata": {},
     "output_type": "execute_result"
    }
   ],
   "source": [
    "df_playoff_0.head()"
   ]
  },
  {
   "cell_type": "code",
   "execution_count": 15,
   "metadata": {
    "colab": {
     "base_uri": "https://localhost:8080/",
     "height": 497
    },
    "colab_type": "code",
    "executionInfo": {
     "elapsed": 1098,
     "status": "ok",
     "timestamp": 1591182452161,
     "user": {
      "displayName": "Utthejh Gade",
      "photoUrl": "https://lh3.googleusercontent.com/a-/AOh14Ggkse30O7zFwf3_ehaf4TWAvINQgJUXDDB7vHph=s64",
      "userId": "16926086647299800832"
     },
     "user_tz": -330
    },
    "id": "uak_6eDA-dGp",
    "outputId": "4486926a-8a2a-48fd-df47-79fdb1434c4f"
   },
   "outputs": [
    {
     "data": {
      "image/png": "[encoded data removed]",
      "text/plain": [
       "<Figure size 720x576 with 1 Axes>"
      ]
     },
     "metadata": {
      "needs_background": "light"
     },
     "output_type": "display_data"
    }
   ],
   "source": [
    " # Plot Scatterplot Wins vs. Runs Scored\n",
    "\n",
    "plt.figure(figsize=(10,8))\n",
    "plt.scatter(x = df_playoff_0['W'], y = df_playoff_0['RS'], c = 'red')\n",
    "plt.scatter(x = df_playoff_1['W'], y = df_playoff_1['RS'], c = 'blue')\n",
    "plt.xlabel('Wins')\n",
    "plt.ylabel('Runs Scored')\n",
    "plt.axvline(x = 99) # estimate the Min number of matches to win to reach playoffs\n",
    "plt.show()"
   ]
  },
  {
   "cell_type": "markdown",
   "metadata": {
    "colab_type": "text",
    "id": "mVhBVkQtBElU"
   },
   "source": [
    "Depodesta has estimated that 99 wins are required to make it to the playoffs and that seems to be appropriate as there are only 3 red points after that threshold which haven't made it to the playoffs with wins above 99. \n"
   ]
  },
  {
   "cell_type": "markdown",
   "metadata": {
    "colab_type": "text",
    "id": "jMHvkRzNCJka"
   },
   "source": [
    "\n",
    "Depodesta has also calculated the score to be atleast 814 runs and allow 645 runs in order to make it to the playoffs. The runs difference (RD) column which was calculated should be approximately 169. Let's plot the relationship between RD and Wins."
   ]
  },
  {
   "cell_type": "code",
   "execution_count": 16,
   "metadata": {
    "colab": {
     "base_uri": "https://localhost:8080/",
     "height": 513
    },
    "colab_type": "code",
    "executionInfo": {
     "elapsed": 1695,
     "status": "ok",
     "timestamp": 1591143112260,
     "user": {
      "displayName": "Utthejh Gade",
      "photoUrl": "https://lh3.googleusercontent.com/a-/AOh14Ggkse30O7zFwf3_ehaf4TWAvINQgJUXDDB7vHph=s64",
      "userId": "16926086647299800832"
     },
     "user_tz": -330
    },
    "id": "5jYyEtAKAc41",
    "outputId": "eee3be39-c5d2-4734-ffb4-0666eeb0ab44"
   },
   "outputs": [
    {
     "data": {
      "image/png": "[encoded data removed]",
      "text/plain": [
       "<Figure size 720x576 with 1 Axes>"
      ]
     },
     "metadata": {
      "needs_background": "light"
     },
     "output_type": "display_data"
    }
   ],
   "source": [
    " plt.figure(figsize = (10,8))\n",
    " \n",
    " x = np.array(df.RD)\n",
    " y = np.array(df.W) #deriving slope, intercept values\n",
    "\n",
    " slope, intercept = np.polyfit(x,y,1)\n",
    " abline_values = [slope * i + intercept for i in x] #plotting the figueplt.figure(figsized = 10,8)\n",
    " plt.scatter(x,y)\n",
    " plt.plot(x , abline_values, 'b')\n",
    " plt.title('Slope = %s' % (slope))\n",
    " plt.xlabel('Runs Difference')\n",
    " plt.ylabel('Wins')\n",
    " plt.show()"
   ]
  },
  {
   "cell_type": "markdown",
   "metadata": {
    "colab_type": "text",
    "id": "cOwEr94yC5Dp"
   },
   "source": [
    "Strong positive correlation, as Runs Difference increases the wins also increase."
   ]
  },
  {
   "cell_type": "code",
   "execution_count": 17,
   "metadata": {
    "colab": {
     "base_uri": "https://localhost:8080/",
     "height": 52
    },
    "colab_type": "code",
    "executionInfo": {
     "elapsed": 1170,
     "status": "ok",
     "timestamp": 1591143112260,
     "user": {
      "displayName": "Utthejh Gade",
      "photoUrl": "https://lh3.googleusercontent.com/a-/AOh14Ggkse30O7zFwf3_ehaf4TWAvINQgJUXDDB7vHph=s64",
      "userId": "16926086647299800832"
     },
     "user_tz": -330
    },
    "id": "YVdZ24qWC0W3",
    "outputId": "d66a827c-08f1-4d53-ca19-e7609a84985a"
   },
   "outputs": [
    {
     "name": "stdout",
     "output_type": "stream",
     "text": [
      "[[1.         0.93851498]\n",
      " [0.93851498 1.        ]]\n"
     ]
    }
   ],
   "source": [
    "print(np.corrcoef(x,y))\n",
    "\n",
    "# Correlation between Runs Difference and Wins, 0.935 is a very highly positive correalation"
   ]
  },
  {
   "cell_type": "markdown",
   "metadata": {
    "colab_type": "text",
    "id": "eYGGGkzLDdcB"
   },
   "source": [
    "Equation:\n",
    "\n",
    "Wins = B0 + B1*(RD)\n",
    "\n",
    "RD  = RS - RA\n",
    "\n",
    "* In production environment: we have to properly estimate Runs Scored (RS) and Runs Allowed (RA). In order to correctly estimate RS and RA we need to find out the appropriate variables which will help me sucessfully estimate RS and RA. \n",
    "\n",
    "* RS = B0 + B1*?\n",
    "* RA = B0 + B1*?"
   ]
  },
  {
   "cell_type": "code",
   "execution_count": null,
   "metadata": {
    "colab": {},
    "colab_type": "code",
    "id": "sc7UQbV_DOmX"
   },
   "outputs": [],
   "source": []
  },
  {
   "cell_type": "code",
   "execution_count": null,
   "metadata": {
    "colab": {},
    "colab_type": "code",
    "id": "nF7sQ_ZeEukt"
   },
   "outputs": [],
   "source": []
  },
  {
   "cell_type": "markdown",
   "metadata": {
    "colab_type": "text",
    "id": "6WumRrAuE4o7"
   },
   "source": [
    "Runs Scored (RS): OBP, SLG, and AVG are string indicators of runs scored by the particular team. Let's validate these assumptions by plotting the relationship between these variables with RS. "
   ]
  },
  {
   "cell_type": "markdown",
   "metadata": {
    "colab_type": "text",
    "id": "1Q40J1WLFQeJ"
   },
   "source": [
    "Scatterplot to check the relations"
   ]
  },
  {
   "cell_type": "code",
   "execution_count": 18,
   "metadata": {
    "colab": {
     "base_uri": "https://localhost:8080/",
     "height": 513
    },
    "colab_type": "code",
    "executionInfo": {
     "elapsed": 1902,
     "status": "ok",
     "timestamp": 1591143114538,
     "user": {
      "displayName": "Utthejh Gade",
      "photoUrl": "https://lh3.googleusercontent.com/a-/AOh14Ggkse30O7zFwf3_ehaf4TWAvINQgJUXDDB7vHph=s64",
      "userId": "16926086647299800832"
     },
     "user_tz": -330
    },
    "id": "hvQZgXtiFGUS",
    "outputId": "48958ad5-925c-4086-b59a-39ab0b8cce03"
   },
   "outputs": [
    {
     "data": {
      "image/png": "[encoded data removed]",
      "text/plain": [
       "<Figure size 720x576 with 1 Axes>"
      ]
     },
     "metadata": {
      "needs_background": "light"
     },
     "output_type": "display_data"
    }
   ],
   "source": [
    "#OBP vs RS\n",
    "\n",
    "plt.figure(figsize = (10,8))\n",
    " \n",
    "x = np.array(df.OBP)\n",
    "y = np.array(df.RS) #deriving slope, intercept values\n",
    "\n",
    "slope, intercept = np.polyfit(x,y,1)\n",
    "abline_values = [slope * i + intercept for i in x] #plotting the figueplt.figure(figsized = 10,8)\n",
    "plt.scatter(x,y)\n",
    "plt.plot(x , abline_values, 'b') \n",
    "plt.title('Slope = %s' % (slope))\n",
    "plt.xlabel('On Base Percentage')\n",
    "plt.ylabel('Runs Scored')\n",
    "plt.show()"
   ]
  },
  {
   "cell_type": "code",
   "execution_count": 19,
   "metadata": {
    "colab": {
     "base_uri": "https://localhost:8080/",
     "height": 52
    },
    "colab_type": "code",
    "executionInfo": {
     "elapsed": 1736,
     "status": "ok",
     "timestamp": 1591143114539,
     "user": {
      "displayName": "Utthejh Gade",
      "photoUrl": "https://lh3.googleusercontent.com/a-/AOh14Ggkse30O7zFwf3_ehaf4TWAvINQgJUXDDB7vHph=s64",
      "userId": "16926086647299800832"
     },
     "user_tz": -330
    },
    "id": "rr-zPv0KFbZJ",
    "outputId": "15843d97-e55c-4927-8508-8b9bd2e224e7"
   },
   "outputs": [
    {
     "name": "stdout",
     "output_type": "stream",
     "text": [
      "[[1.         0.90490915]\n",
      " [0.90490915 1.        ]]\n"
     ]
    }
   ],
   "source": [
    "print(np.corrcoef(x,y))\n",
    "\n",
    "#High correlation of 0.904 between OBP vs RS"
   ]
  },
  {
   "cell_type": "code",
   "execution_count": null,
   "metadata": {
    "colab": {},
    "colab_type": "code",
    "id": "jMYtaSrNGPXL"
   },
   "outputs": [],
   "source": []
  },
  {
   "cell_type": "code",
   "execution_count": 20,
   "metadata": {
    "colab": {
     "base_uri": "https://localhost:8080/",
     "height": 513
    },
    "colab_type": "code",
    "executionInfo": {
     "elapsed": 2578,
     "status": "ok",
     "timestamp": 1591143115949,
     "user": {
      "displayName": "Utthejh Gade",
      "photoUrl": "https://lh3.googleusercontent.com/a-/AOh14Ggkse30O7zFwf3_ehaf4TWAvINQgJUXDDB7vHph=s64",
      "userId": "16926086647299800832"
     },
     "user_tz": -330
    },
    "id": "FhEop3_jFkbV",
    "outputId": "75902023-b7e3-4a8d-ab01-9dec193af8fe"
   },
   "outputs": [
    {
     "data": {
      "image/png": "[encoded data removed]",
      "text/plain": [
       "<Figure size 720x576 with 1 Axes>"
      ]
     },
     "metadata": {
      "needs_background": "light"
     },
     "output_type": "display_data"
    }
   ],
   "source": [
    "# SLG vs RS\n",
    "\n",
    "plt.figure(figsize = (10,8))\n",
    " \n",
    "x = np.array(df.SLG)\n",
    "y = np.array(df.RS) #deriving slope, intercept values\n",
    "\n",
    "slope, intercept = np.polyfit(x,y,1)\n",
    "abline_values = [slope * i + intercept for i in x] #plotting the figueplt.figure(figsized = 10,8)\n",
    "plt.scatter(x,y)\n",
    "plt.plot(x , abline_values, 'b') \n",
    "plt.title('Slope = %s' % (slope))\n",
    "plt.xlabel('Slugging Percentage')\n",
    "plt.ylabel('Runs Scored')\n",
    "plt.show()"
   ]
  },
  {
   "cell_type": "code",
   "execution_count": 21,
   "metadata": {
    "colab": {
     "base_uri": "https://localhost:8080/",
     "height": 52
    },
    "colab_type": "code",
    "executionInfo": {
     "elapsed": 2343,
     "status": "ok",
     "timestamp": 1591143115950,
     "user": {
      "displayName": "Utthejh Gade",
      "photoUrl": "https://lh3.googleusercontent.com/a-/AOh14Ggkse30O7zFwf3_ehaf4TWAvINQgJUXDDB7vHph=s64",
      "userId": "16926086647299800832"
     },
     "user_tz": -330
    },
    "id": "26Jm_sZtF0M5",
    "outputId": "004cf1cd-7189-46ee-9a96-3411718f4974"
   },
   "outputs": [
    {
     "name": "stdout",
     "output_type": "stream",
     "text": [
      "[[1.         0.92638433]\n",
      " [0.92638433 1.        ]]\n"
     ]
    }
   ],
   "source": [
    "print(np.corrcoef(x,y))\n",
    "\n",
    "#High correlation of 0.926 between SLG and RS"
   ]
  },
  {
   "cell_type": "code",
   "execution_count": null,
   "metadata": {
    "colab": {},
    "colab_type": "code",
    "id": "X97gGybwF2T3"
   },
   "outputs": [],
   "source": []
  },
  {
   "cell_type": "code",
   "execution_count": 22,
   "metadata": {
    "colab": {
     "base_uri": "https://localhost:8080/",
     "height": 513
    },
    "colab_type": "code",
    "executionInfo": {
     "elapsed": 1908,
     "status": "ok",
     "timestamp": 1591143115952,
     "user": {
      "displayName": "Utthejh Gade",
      "photoUrl": "https://lh3.googleusercontent.com/a-/AOh14Ggkse30O7zFwf3_ehaf4TWAvINQgJUXDDB7vHph=s64",
      "userId": "16926086647299800832"
     },
     "user_tz": -330
    },
    "id": "mONhHH4LGSMY",
    "outputId": "df882e9a-b937-4091-ab9c-e5f15047f870"
   },
   "outputs": [
    {
     "data": {
      "image/png": "[encoded data removed]",
      "text/plain": [
       "<Figure size 720x576 with 1 Axes>"
      ]
     },
     "metadata": {
      "needs_background": "light"
     },
     "output_type": "display_data"
    }
   ],
   "source": [
    "#BA vs RS\n",
    "\n",
    "plt.figure(figsize = (10,8))\n",
    " \n",
    "x = np.array(df.BA)\n",
    "y = np.array(df.RS) #deriving slope, intercept values\n",
    "\n",
    "slope, intercept = np.polyfit(x,y,1)\n",
    "abline_values = [slope * i + intercept for i in x] #plotting the figueplt.figure(figsized = 10,8)\n",
    "plt.scatter(x,y)\n",
    "plt.plot(x , abline_values, 'b') \n",
    "plt.title('Slope = %s' % (slope))\n",
    "plt.xlabel('Batting Average')\n",
    "plt.ylabel('Runs Scored')\n",
    "plt.show()"
   ]
  },
  {
   "cell_type": "code",
   "execution_count": 23,
   "metadata": {
    "colab": {
     "base_uri": "https://localhost:8080/",
     "height": 52
    },
    "colab_type": "code",
    "executionInfo": {
     "elapsed": 2288,
     "status": "ok",
     "timestamp": 1591143116562,
     "user": {
      "displayName": "Utthejh Gade",
      "photoUrl": "https://lh3.googleusercontent.com/a-/AOh14Ggkse30O7zFwf3_ehaf4TWAvINQgJUXDDB7vHph=s64",
      "userId": "16926086647299800832"
     },
     "user_tz": -330
    },
    "id": "avbnPab1GXo8",
    "outputId": "5b07b3e1-14ec-4859-f842-affdd62ccb8e"
   },
   "outputs": [
    {
     "name": "stdout",
     "output_type": "stream",
     "text": [
      "[[1.         0.83162475]\n",
      " [0.83162475 1.        ]]\n"
     ]
    }
   ],
   "source": [
    "print(np.corrcoef(x,y))\n",
    "\n",
    "#High correlation BA vs RS"
   ]
  },
  {
   "cell_type": "code",
   "execution_count": null,
   "metadata": {
    "colab": {},
    "colab_type": "code",
    "id": "GwlnPSJMGg-F"
   },
   "outputs": [],
   "source": []
  },
  {
   "cell_type": "code",
   "execution_count": null,
   "metadata": {
    "colab": {},
    "colab_type": "code",
    "id": "QEBncGvuGtUQ"
   },
   "outputs": [],
   "source": []
  },
  {
   "cell_type": "markdown",
   "metadata": {
    "colab_type": "text",
    "id": "07k1DAv1Gtdg"
   },
   "source": [
    "Similarly, we can hypothesise that OOBP (Opponent's OBP) and OSLG (Opponent's SLG) have a similar relationship with RA (Runs Allowed). "
   ]
  },
  {
   "cell_type": "code",
   "execution_count": null,
   "metadata": {
    "colab": {},
    "colab_type": "code",
    "id": "qLpMe5mOHCXN"
   },
   "outputs": [],
   "source": []
  },
  {
   "cell_type": "markdown",
   "metadata": {
    "colab_type": "text",
    "id": "O4d9MkTnHCof"
   },
   "source": [
    "#**Model Building**\n",
    "\n",
    "Looks like we have some null values so let's try two approaches and see which will yield the best result:\n",
    "\n",
    "1. Drop NA\n",
    "2. Median\n",
    "\n"
   ]
  },
  {
   "cell_type": "markdown",
   "metadata": {
    "colab_type": "text",
    "id": "HNo_vqnDSVZX"
   },
   "source": [
    "# **1. Drop NA**"
   ]
  },
  {
   "cell_type": "code",
   "execution_count": 24,
   "metadata": {
    "colab": {
     "base_uri": "https://localhost:8080/",
     "height": 106
    },
    "colab_type": "code",
    "executionInfo": {
     "elapsed": 971,
     "status": "ok",
     "timestamp": 1591184656058,
     "user": {
      "displayName": "Utthejh Gade",
      "photoUrl": "https://lh3.googleusercontent.com/a-/AOh14Ggkse30O7zFwf3_ehaf4TWAvINQgJUXDDB7vHph=s64",
      "userId": "16926086647299800832"
     },
     "user_tz": -330
    },
    "id": "ypPK6IkO8eCm",
    "outputId": "a92bb998-c7e7-4ded-90d2-b89cc8ea91e0"
   },
   "outputs": [
    {
     "data": {
      "text/html": [
       "<div>\n",
       "<style scoped>\n",
       "    .dataframe tbody tr th:only-of-type {\n",
       "        vertical-align: middle;\n",
       "    }\n",
       "\n",
       "    .dataframe tbody tr th {\n",
       "        vertical-align: top;\n",
       "    }\n",
       "\n",
       "    .dataframe thead th {\n",
       "        text-align: right;\n",
       "    }\n",
       "</style>\n",
       "<table border=\"1\" class=\"dataframe\">\n",
       "  <thead>\n",
       "    <tr style=\"text-align: right;\">\n",
       "      <th></th>\n",
       "      <th>Team</th>\n",
       "      <th>League</th>\n",
       "      <th>Year</th>\n",
       "      <th>RS</th>\n",
       "      <th>RA</th>\n",
       "      <th>W</th>\n",
       "      <th>OBP</th>\n",
       "      <th>SLG</th>\n",
       "      <th>BA</th>\n",
       "      <th>Playoffs</th>\n",
       "      <th>RankSeason</th>\n",
       "      <th>RankPlayoffs</th>\n",
       "      <th>G</th>\n",
       "      <th>OOBP</th>\n",
       "      <th>OSLG</th>\n",
       "      <th>RD</th>\n",
       "    </tr>\n",
       "  </thead>\n",
       "  <tbody>\n",
       "    <tr>\n",
       "      <td>330</td>\n",
       "      <td>ANA</td>\n",
       "      <td>AL</td>\n",
       "      <td>2001</td>\n",
       "      <td>691</td>\n",
       "      <td>730</td>\n",
       "      <td>75</td>\n",
       "      <td>0.327</td>\n",
       "      <td>0.405</td>\n",
       "      <td>0.261</td>\n",
       "      <td>0</td>\n",
       "      <td>NaN</td>\n",
       "      <td>NaN</td>\n",
       "      <td>162</td>\n",
       "      <td>0.331</td>\n",
       "      <td>0.412</td>\n",
       "      <td>-39</td>\n",
       "    </tr>\n",
       "    <tr>\n",
       "      <td>331</td>\n",
       "      <td>ARI</td>\n",
       "      <td>NL</td>\n",
       "      <td>2001</td>\n",
       "      <td>818</td>\n",
       "      <td>677</td>\n",
       "      <td>92</td>\n",
       "      <td>0.341</td>\n",
       "      <td>0.442</td>\n",
       "      <td>0.267</td>\n",
       "      <td>1</td>\n",
       "      <td>5.0</td>\n",
       "      <td>1.0</td>\n",
       "      <td>162</td>\n",
       "      <td>0.311</td>\n",
       "      <td>0.404</td>\n",
       "      <td>141</td>\n",
       "    </tr>\n",
       "  </tbody>\n",
       "</table>\n",
       "</div>"
      ],
      "text/plain": [
       "    Team League  Year   RS   RA   W    OBP    SLG     BA  Playoffs  \\\n",
       "330  ANA     AL  2001  691  730  75  0.327  0.405  0.261         0   \n",
       "331  ARI     NL  2001  818  677  92  0.341  0.442  0.267         1   \n",
       "\n",
       "     RankSeason  RankPlayoffs    G   OOBP   OSLG   RD  \n",
       "330         NaN           NaN  162  0.331  0.412  -39  \n",
       "331         5.0           1.0  162  0.311  0.404  141  "
      ]
     },
     "execution_count": 24,
     "metadata": {},
     "output_type": "execute_result"
    }
   ],
   "source": [
    "bb  = pd.read_csv('baseball.csv')\n",
    "bb['RD'] = bb['RS'] - bb['RA']\n",
    "df = bb[bb['Year']<2002]\n",
    "df.head(2)"
   ]
  },
  {
   "cell_type": "code",
   "execution_count": 25,
   "metadata": {
    "colab": {
     "base_uri": "https://localhost:8080/",
     "height": 301
    },
    "colab_type": "code",
    "executionInfo": {
     "elapsed": 1364,
     "status": "ok",
     "timestamp": 1591184662478,
     "user": {
      "displayName": "Utthejh Gade",
      "photoUrl": "https://lh3.googleusercontent.com/a-/AOh14Ggkse30O7zFwf3_ehaf4TWAvINQgJUXDDB7vHph=s64",
      "userId": "16926086647299800832"
     },
     "user_tz": -330
    },
    "id": "eB43ZnWRHNSd",
    "outputId": "0fc0332f-41ef-4e51-90af-d8fa99174e71"
   },
   "outputs": [
    {
     "name": "stdout",
     "output_type": "stream",
     "text": [
      "Team 0\n",
      "League 0\n",
      "Year 0\n",
      "RS 0\n",
      "RA 0\n",
      "W 0\n",
      "OBP 0\n",
      "SLG 0\n",
      "BA 0\n",
      "Playoffs 0\n",
      "RankSeason 748\n",
      "RankPlayoffs 748\n",
      "G 0\n",
      "OOBP 812\n",
      "OSLG 812\n",
      "RD 0\n"
     ]
    }
   ],
   "source": [
    "for col in df:\n",
    "  print(col, df[col].isnull().sum())"
   ]
  },
  {
   "cell_type": "markdown",
   "metadata": {
    "colab_type": "text",
    "id": "GNIsNHUUHxtz"
   },
   "source": [
    "We can see that OOBP and OSLG have 812 missing values each, let deal with this"
   ]
  },
  {
   "cell_type": "code",
   "execution_count": 26,
   "metadata": {
    "colab": {
     "base_uri": "https://localhost:8080/",
     "height": 195
    },
    "colab_type": "code",
    "executionInfo": {
     "elapsed": 1317,
     "status": "ok",
     "timestamp": 1591184669980,
     "user": {
      "displayName": "Utthejh Gade",
      "photoUrl": "https://lh3.googleusercontent.com/a-/AOh14Ggkse30O7zFwf3_ehaf4TWAvINQgJUXDDB7vHph=s64",
      "userId": "16926086647299800832"
     },
     "user_tz": -330
    },
    "id": "H7TG3bMw8Xem",
    "outputId": "995b2246-2306-4204-b55b-0f5770ea15f8"
   },
   "outputs": [],
   "source": [
    "df.replace([np.inf, -np.inf], np.nan, inplace = True)\n",
    "df.dropna(inplace=True)"
   ]
  },
  {
   "cell_type": "code",
   "execution_count": 27,
   "metadata": {
    "colab": {
     "base_uri": "https://localhost:8080/",
     "height": 35
    },
    "colab_type": "code",
    "executionInfo": {
     "elapsed": 933,
     "status": "ok",
     "timestamp": 1591184672300,
     "user": {
      "displayName": "Utthejh Gade",
      "photoUrl": "https://lh3.googleusercontent.com/a-/AOh14Ggkse30O7zFwf3_ehaf4TWAvINQgJUXDDB7vHph=s64",
      "userId": "16926086647299800832"
     },
     "user_tz": -330
    },
    "id": "hkyD-YBSIyod",
    "outputId": "432c60ca-2200-4830-b915-fbf0345f770b"
   },
   "outputs": [
    {
     "data": {
      "text/plain": [
       "(24, 16)"
      ]
     },
     "execution_count": 27,
     "metadata": {},
     "output_type": "execute_result"
    }
   ],
   "source": [
    "df.shape"
   ]
  },
  {
   "cell_type": "code",
   "execution_count": 28,
   "metadata": {
    "colab": {
     "base_uri": "https://localhost:8080/",
     "height": 751
    },
    "colab_type": "code",
    "executionInfo": {
     "elapsed": 1133,
     "status": "ok",
     "timestamp": 1591184686350,
     "user": {
      "displayName": "Utthejh Gade",
      "photoUrl": "https://lh3.googleusercontent.com/a-/AOh14Ggkse30O7zFwf3_ehaf4TWAvINQgJUXDDB7vHph=s64",
      "userId": "16926086647299800832"
     },
     "user_tz": -330
    },
    "id": "TpB85pb9_2H2",
    "outputId": "5c667bbd-f664-4172-e193-8807258929e3"
   },
   "outputs": [
    {
     "data": {
      "text/html": [
       "<div>\n",
       "<style scoped>\n",
       "    .dataframe tbody tr th:only-of-type {\n",
       "        vertical-align: middle;\n",
       "    }\n",
       "\n",
       "    .dataframe tbody tr th {\n",
       "        vertical-align: top;\n",
       "    }\n",
       "\n",
       "    .dataframe thead th {\n",
       "        text-align: right;\n",
       "    }\n",
       "</style>\n",
       "<table border=\"1\" class=\"dataframe\">\n",
       "  <thead>\n",
       "    <tr style=\"text-align: right;\">\n",
       "      <th></th>\n",
       "      <th>Team</th>\n",
       "      <th>League</th>\n",
       "      <th>Year</th>\n",
       "      <th>RS</th>\n",
       "      <th>RA</th>\n",
       "      <th>W</th>\n",
       "      <th>OBP</th>\n",
       "      <th>SLG</th>\n",
       "      <th>BA</th>\n",
       "      <th>Playoffs</th>\n",
       "      <th>RankSeason</th>\n",
       "      <th>RankPlayoffs</th>\n",
       "      <th>G</th>\n",
       "      <th>OOBP</th>\n",
       "      <th>OSLG</th>\n",
       "      <th>RD</th>\n",
       "    </tr>\n",
       "  </thead>\n",
       "  <tbody>\n",
       "    <tr>\n",
       "      <td>331</td>\n",
       "      <td>ARI</td>\n",
       "      <td>NL</td>\n",
       "      <td>2001</td>\n",
       "      <td>818</td>\n",
       "      <td>677</td>\n",
       "      <td>92</td>\n",
       "      <td>0.341</td>\n",
       "      <td>0.442</td>\n",
       "      <td>0.267</td>\n",
       "      <td>1</td>\n",
       "      <td>5.0</td>\n",
       "      <td>1.0</td>\n",
       "      <td>162</td>\n",
       "      <td>0.311</td>\n",
       "      <td>0.404</td>\n",
       "      <td>141</td>\n",
       "    </tr>\n",
       "    <tr>\n",
       "      <td>332</td>\n",
       "      <td>ATL</td>\n",
       "      <td>NL</td>\n",
       "      <td>2001</td>\n",
       "      <td>729</td>\n",
       "      <td>643</td>\n",
       "      <td>88</td>\n",
       "      <td>0.324</td>\n",
       "      <td>0.412</td>\n",
       "      <td>0.260</td>\n",
       "      <td>1</td>\n",
       "      <td>7.0</td>\n",
       "      <td>3.0</td>\n",
       "      <td>162</td>\n",
       "      <td>0.314</td>\n",
       "      <td>0.384</td>\n",
       "      <td>86</td>\n",
       "    </tr>\n",
       "    <tr>\n",
       "      <td>338</td>\n",
       "      <td>CLE</td>\n",
       "      <td>AL</td>\n",
       "      <td>2001</td>\n",
       "      <td>897</td>\n",
       "      <td>821</td>\n",
       "      <td>91</td>\n",
       "      <td>0.350</td>\n",
       "      <td>0.458</td>\n",
       "      <td>0.278</td>\n",
       "      <td>1</td>\n",
       "      <td>6.0</td>\n",
       "      <td>4.0</td>\n",
       "      <td>162</td>\n",
       "      <td>0.341</td>\n",
       "      <td>0.417</td>\n",
       "      <td>76</td>\n",
       "    </tr>\n",
       "    <tr>\n",
       "      <td>342</td>\n",
       "      <td>HOU</td>\n",
       "      <td>NL</td>\n",
       "      <td>2001</td>\n",
       "      <td>847</td>\n",
       "      <td>769</td>\n",
       "      <td>93</td>\n",
       "      <td>0.347</td>\n",
       "      <td>0.451</td>\n",
       "      <td>0.271</td>\n",
       "      <td>1</td>\n",
       "      <td>4.0</td>\n",
       "      <td>4.0</td>\n",
       "      <td>162</td>\n",
       "      <td>0.325</td>\n",
       "      <td>0.437</td>\n",
       "      <td>78</td>\n",
       "    </tr>\n",
       "    <tr>\n",
       "      <td>349</td>\n",
       "      <td>NYY</td>\n",
       "      <td>AL</td>\n",
       "      <td>2001</td>\n",
       "      <td>804</td>\n",
       "      <td>713</td>\n",
       "      <td>95</td>\n",
       "      <td>0.334</td>\n",
       "      <td>0.435</td>\n",
       "      <td>0.267</td>\n",
       "      <td>1</td>\n",
       "      <td>3.0</td>\n",
       "      <td>2.0</td>\n",
       "      <td>161</td>\n",
       "      <td>0.318</td>\n",
       "      <td>0.398</td>\n",
       "      <td>91</td>\n",
       "    </tr>\n",
       "    <tr>\n",
       "      <td>350</td>\n",
       "      <td>OAK</td>\n",
       "      <td>AL</td>\n",
       "      <td>2001</td>\n",
       "      <td>884</td>\n",
       "      <td>645</td>\n",
       "      <td>102</td>\n",
       "      <td>0.345</td>\n",
       "      <td>0.439</td>\n",
       "      <td>0.264</td>\n",
       "      <td>1</td>\n",
       "      <td>2.0</td>\n",
       "      <td>4.0</td>\n",
       "      <td>162</td>\n",
       "      <td>0.308</td>\n",
       "      <td>0.380</td>\n",
       "      <td>239</td>\n",
       "    </tr>\n",
       "    <tr>\n",
       "      <td>354</td>\n",
       "      <td>SEA</td>\n",
       "      <td>AL</td>\n",
       "      <td>2001</td>\n",
       "      <td>927</td>\n",
       "      <td>627</td>\n",
       "      <td>116</td>\n",
       "      <td>0.360</td>\n",
       "      <td>0.445</td>\n",
       "      <td>0.288</td>\n",
       "      <td>1</td>\n",
       "      <td>1.0</td>\n",
       "      <td>3.0</td>\n",
       "      <td>162</td>\n",
       "      <td>0.301</td>\n",
       "      <td>0.378</td>\n",
       "      <td>300</td>\n",
       "    </tr>\n",
       "    <tr>\n",
       "      <td>356</td>\n",
       "      <td>STL</td>\n",
       "      <td>NL</td>\n",
       "      <td>2001</td>\n",
       "      <td>814</td>\n",
       "      <td>684</td>\n",
       "      <td>93</td>\n",
       "      <td>0.339</td>\n",
       "      <td>0.441</td>\n",
       "      <td>0.270</td>\n",
       "      <td>1</td>\n",
       "      <td>4.0</td>\n",
       "      <td>4.0</td>\n",
       "      <td>162</td>\n",
       "      <td>0.328</td>\n",
       "      <td>0.428</td>\n",
       "      <td>130</td>\n",
       "    </tr>\n",
       "    <tr>\n",
       "      <td>362</td>\n",
       "      <td>ATL</td>\n",
       "      <td>NL</td>\n",
       "      <td>2000</td>\n",
       "      <td>810</td>\n",
       "      <td>714</td>\n",
       "      <td>95</td>\n",
       "      <td>0.346</td>\n",
       "      <td>0.429</td>\n",
       "      <td>0.271</td>\n",
       "      <td>1</td>\n",
       "      <td>2.0</td>\n",
       "      <td>4.0</td>\n",
       "      <td>162</td>\n",
       "      <td>0.319</td>\n",
       "      <td>0.402</td>\n",
       "      <td>96</td>\n",
       "    </tr>\n",
       "    <tr>\n",
       "      <td>366</td>\n",
       "      <td>CHW</td>\n",
       "      <td>AL</td>\n",
       "      <td>2000</td>\n",
       "      <td>978</td>\n",
       "      <td>839</td>\n",
       "      <td>95</td>\n",
       "      <td>0.356</td>\n",
       "      <td>0.470</td>\n",
       "      <td>0.286</td>\n",
       "      <td>1</td>\n",
       "      <td>2.0</td>\n",
       "      <td>4.0</td>\n",
       "      <td>162</td>\n",
       "      <td>0.346</td>\n",
       "      <td>0.434</td>\n",
       "      <td>139</td>\n",
       "    </tr>\n",
       "    <tr>\n",
       "      <td>378</td>\n",
       "      <td>NYM</td>\n",
       "      <td>NL</td>\n",
       "      <td>2000</td>\n",
       "      <td>807</td>\n",
       "      <td>738</td>\n",
       "      <td>94</td>\n",
       "      <td>0.346</td>\n",
       "      <td>0.430</td>\n",
       "      <td>0.263</td>\n",
       "      <td>1</td>\n",
       "      <td>3.0</td>\n",
       "      <td>2.0</td>\n",
       "      <td>162</td>\n",
       "      <td>0.327</td>\n",
       "      <td>0.403</td>\n",
       "      <td>69</td>\n",
       "    </tr>\n",
       "    <tr>\n",
       "      <td>379</td>\n",
       "      <td>NYY</td>\n",
       "      <td>AL</td>\n",
       "      <td>2000</td>\n",
       "      <td>871</td>\n",
       "      <td>814</td>\n",
       "      <td>87</td>\n",
       "      <td>0.354</td>\n",
       "      <td>0.450</td>\n",
       "      <td>0.277</td>\n",
       "      <td>1</td>\n",
       "      <td>5.0</td>\n",
       "      <td>1.0</td>\n",
       "      <td>161</td>\n",
       "      <td>0.336</td>\n",
       "      <td>0.422</td>\n",
       "      <td>57</td>\n",
       "    </tr>\n",
       "    <tr>\n",
       "      <td>380</td>\n",
       "      <td>OAK</td>\n",
       "      <td>AL</td>\n",
       "      <td>2000</td>\n",
       "      <td>947</td>\n",
       "      <td>813</td>\n",
       "      <td>91</td>\n",
       "      <td>0.360</td>\n",
       "      <td>0.458</td>\n",
       "      <td>0.270</td>\n",
       "      <td>1</td>\n",
       "      <td>4.0</td>\n",
       "      <td>4.0</td>\n",
       "      <td>161</td>\n",
       "      <td>0.348</td>\n",
       "      <td>0.423</td>\n",
       "      <td>134</td>\n",
       "    </tr>\n",
       "    <tr>\n",
       "      <td>384</td>\n",
       "      <td>SEA</td>\n",
       "      <td>AL</td>\n",
       "      <td>2000</td>\n",
       "      <td>907</td>\n",
       "      <td>780</td>\n",
       "      <td>91</td>\n",
       "      <td>0.361</td>\n",
       "      <td>0.442</td>\n",
       "      <td>0.269</td>\n",
       "      <td>1</td>\n",
       "      <td>4.0</td>\n",
       "      <td>3.0</td>\n",
       "      <td>162</td>\n",
       "      <td>0.339</td>\n",
       "      <td>0.416</td>\n",
       "      <td>127</td>\n",
       "    </tr>\n",
       "    <tr>\n",
       "      <td>385</td>\n",
       "      <td>SFG</td>\n",
       "      <td>NL</td>\n",
       "      <td>2000</td>\n",
       "      <td>925</td>\n",
       "      <td>747</td>\n",
       "      <td>97</td>\n",
       "      <td>0.362</td>\n",
       "      <td>0.472</td>\n",
       "      <td>0.278</td>\n",
       "      <td>1</td>\n",
       "      <td>1.0</td>\n",
       "      <td>4.0</td>\n",
       "      <td>162</td>\n",
       "      <td>0.342</td>\n",
       "      <td>0.412</td>\n",
       "      <td>178</td>\n",
       "    </tr>\n",
       "    <tr>\n",
       "      <td>386</td>\n",
       "      <td>STL</td>\n",
       "      <td>NL</td>\n",
       "      <td>2000</td>\n",
       "      <td>887</td>\n",
       "      <td>771</td>\n",
       "      <td>95</td>\n",
       "      <td>0.356</td>\n",
       "      <td>0.455</td>\n",
       "      <td>0.270</td>\n",
       "      <td>1</td>\n",
       "      <td>2.0</td>\n",
       "      <td>3.0</td>\n",
       "      <td>162</td>\n",
       "      <td>0.338</td>\n",
       "      <td>0.434</td>\n",
       "      <td>116</td>\n",
       "    </tr>\n",
       "    <tr>\n",
       "      <td>391</td>\n",
       "      <td>ARI</td>\n",
       "      <td>NL</td>\n",
       "      <td>1999</td>\n",
       "      <td>908</td>\n",
       "      <td>676</td>\n",
       "      <td>100</td>\n",
       "      <td>0.347</td>\n",
       "      <td>0.459</td>\n",
       "      <td>0.277</td>\n",
       "      <td>1</td>\n",
       "      <td>2.0</td>\n",
       "      <td>4.0</td>\n",
       "      <td>162</td>\n",
       "      <td>0.320</td>\n",
       "      <td>0.402</td>\n",
       "      <td>232</td>\n",
       "    </tr>\n",
       "    <tr>\n",
       "      <td>392</td>\n",
       "      <td>ATL</td>\n",
       "      <td>NL</td>\n",
       "      <td>1999</td>\n",
       "      <td>840</td>\n",
       "      <td>661</td>\n",
       "      <td>103</td>\n",
       "      <td>0.341</td>\n",
       "      <td>0.436</td>\n",
       "      <td>0.266</td>\n",
       "      <td>1</td>\n",
       "      <td>1.0</td>\n",
       "      <td>2.0</td>\n",
       "      <td>162</td>\n",
       "      <td>0.314</td>\n",
       "      <td>0.377</td>\n",
       "      <td>179</td>\n",
       "    </tr>\n",
       "    <tr>\n",
       "      <td>394</td>\n",
       "      <td>BOS</td>\n",
       "      <td>AL</td>\n",
       "      <td>1999</td>\n",
       "      <td>836</td>\n",
       "      <td>718</td>\n",
       "      <td>94</td>\n",
       "      <td>0.350</td>\n",
       "      <td>0.448</td>\n",
       "      <td>0.278</td>\n",
       "      <td>1</td>\n",
       "      <td>6.0</td>\n",
       "      <td>3.0</td>\n",
       "      <td>162</td>\n",
       "      <td>0.315</td>\n",
       "      <td>0.398</td>\n",
       "      <td>118</td>\n",
       "    </tr>\n",
       "    <tr>\n",
       "      <td>398</td>\n",
       "      <td>CLE</td>\n",
       "      <td>AL</td>\n",
       "      <td>1999</td>\n",
       "      <td>1009</td>\n",
       "      <td>860</td>\n",
       "      <td>97</td>\n",
       "      <td>0.373</td>\n",
       "      <td>0.467</td>\n",
       "      <td>0.289</td>\n",
       "      <td>1</td>\n",
       "      <td>4.0</td>\n",
       "      <td>4.0</td>\n",
       "      <td>162</td>\n",
       "      <td>0.347</td>\n",
       "      <td>0.439</td>\n",
       "      <td>149</td>\n",
       "    </tr>\n",
       "    <tr>\n",
       "      <td>402</td>\n",
       "      <td>HOU</td>\n",
       "      <td>NL</td>\n",
       "      <td>1999</td>\n",
       "      <td>823</td>\n",
       "      <td>675</td>\n",
       "      <td>97</td>\n",
       "      <td>0.355</td>\n",
       "      <td>0.420</td>\n",
       "      <td>0.267</td>\n",
       "      <td>1</td>\n",
       "      <td>4.0</td>\n",
       "      <td>4.0</td>\n",
       "      <td>162</td>\n",
       "      <td>0.326</td>\n",
       "      <td>0.397</td>\n",
       "      <td>148</td>\n",
       "    </tr>\n",
       "    <tr>\n",
       "      <td>408</td>\n",
       "      <td>NYM</td>\n",
       "      <td>NL</td>\n",
       "      <td>1999</td>\n",
       "      <td>853</td>\n",
       "      <td>711</td>\n",
       "      <td>97</td>\n",
       "      <td>0.363</td>\n",
       "      <td>0.434</td>\n",
       "      <td>0.279</td>\n",
       "      <td>1</td>\n",
       "      <td>4.0</td>\n",
       "      <td>3.0</td>\n",
       "      <td>163</td>\n",
       "      <td>0.331</td>\n",
       "      <td>0.418</td>\n",
       "      <td>142</td>\n",
       "    </tr>\n",
       "    <tr>\n",
       "      <td>409</td>\n",
       "      <td>NYY</td>\n",
       "      <td>AL</td>\n",
       "      <td>1999</td>\n",
       "      <td>900</td>\n",
       "      <td>731</td>\n",
       "      <td>98</td>\n",
       "      <td>0.366</td>\n",
       "      <td>0.453</td>\n",
       "      <td>0.282</td>\n",
       "      <td>1</td>\n",
       "      <td>3.0</td>\n",
       "      <td>1.0</td>\n",
       "      <td>162</td>\n",
       "      <td>0.329</td>\n",
       "      <td>0.400</td>\n",
       "      <td>169</td>\n",
       "    </tr>\n",
       "    <tr>\n",
       "      <td>418</td>\n",
       "      <td>TEX</td>\n",
       "      <td>AL</td>\n",
       "      <td>1999</td>\n",
       "      <td>945</td>\n",
       "      <td>859</td>\n",
       "      <td>95</td>\n",
       "      <td>0.361</td>\n",
       "      <td>0.479</td>\n",
       "      <td>0.293</td>\n",
       "      <td>1</td>\n",
       "      <td>5.0</td>\n",
       "      <td>4.0</td>\n",
       "      <td>162</td>\n",
       "      <td>0.346</td>\n",
       "      <td>0.459</td>\n",
       "      <td>86</td>\n",
       "    </tr>\n",
       "  </tbody>\n",
       "</table>\n",
       "</div>"
      ],
      "text/plain": [
       "    Team League  Year    RS   RA    W    OBP    SLG     BA  Playoffs  \\\n",
       "331  ARI     NL  2001   818  677   92  0.341  0.442  0.267         1   \n",
       "332  ATL     NL  2001   729  643   88  0.324  0.412  0.260         1   \n",
       "338  CLE     AL  2001   897  821   91  0.350  0.458  0.278         1   \n",
       "342  HOU     NL  2001   847  769   93  0.347  0.451  0.271         1   \n",
       "349  NYY     AL  2001   804  713   95  0.334  0.435  0.267         1   \n",
       "350  OAK     AL  2001   884  645  102  0.345  0.439  0.264         1   \n",
       "354  SEA     AL  2001   927  627  116  0.360  0.445  0.288         1   \n",
       "356  STL     NL  2001   814  684   93  0.339  0.441  0.270         1   \n",
       "362  ATL     NL  2000   810  714   95  0.346  0.429  0.271         1   \n",
       "366  CHW     AL  2000   978  839   95  0.356  0.470  0.286         1   \n",
       "378  NYM     NL  2000   807  738   94  0.346  0.430  0.263         1   \n",
       "379  NYY     AL  2000   871  814   87  0.354  0.450  0.277         1   \n",
       "380  OAK     AL  2000   947  813   91  0.360  0.458  0.270         1   \n",
       "384  SEA     AL  2000   907  780   91  0.361  0.442  0.269         1   \n",
       "385  SFG     NL  2000   925  747   97  0.362  0.472  0.278         1   \n",
       "386  STL     NL  2000   887  771   95  0.356  0.455  0.270         1   \n",
       "391  ARI     NL  1999   908  676  100  0.347  0.459  0.277         1   \n",
       "392  ATL     NL  1999   840  661  103  0.341  0.436  0.266         1   \n",
       "394  BOS     AL  1999   836  718   94  0.350  0.448  0.278         1   \n",
       "398  CLE     AL  1999  1009  860   97  0.373  0.467  0.289         1   \n",
       "402  HOU     NL  1999   823  675   97  0.355  0.420  0.267         1   \n",
       "408  NYM     NL  1999   853  711   97  0.363  0.434  0.279         1   \n",
       "409  NYY     AL  1999   900  731   98  0.366  0.453  0.282         1   \n",
       "418  TEX     AL  1999   945  859   95  0.361  0.479  0.293         1   \n",
       "\n",
       "     RankSeason  RankPlayoffs    G   OOBP   OSLG   RD  \n",
       "331         5.0           1.0  162  0.311  0.404  141  \n",
       "332         7.0           3.0  162  0.314  0.384   86  \n",
       "338         6.0           4.0  162  0.341  0.417   76  \n",
       "342         4.0           4.0  162  0.325  0.437   78  \n",
       "349         3.0           2.0  161  0.318  0.398   91  \n",
       "350         2.0           4.0  162  0.308  0.380  239  \n",
       "354         1.0           3.0  162  0.301  0.378  300  \n",
       "356         4.0           4.0  162  0.328  0.428  130  \n",
       "362         2.0           4.0  162  0.319  0.402   96  \n",
       "366         2.0           4.0  162  0.346  0.434  139  \n",
       "378         3.0           2.0  162  0.327  0.403   69  \n",
       "379         5.0           1.0  161  0.336  0.422   57  \n",
       "380         4.0           4.0  161  0.348  0.423  134  \n",
       "384         4.0           3.0  162  0.339  0.416  127  \n",
       "385         1.0           4.0  162  0.342  0.412  178  \n",
       "386         2.0           3.0  162  0.338  0.434  116  \n",
       "391         2.0           4.0  162  0.320  0.402  232  \n",
       "392         1.0           2.0  162  0.314  0.377  179  \n",
       "394         6.0           3.0  162  0.315  0.398  118  \n",
       "398         4.0           4.0  162  0.347  0.439  149  \n",
       "402         4.0           4.0  162  0.326  0.397  148  \n",
       "408         4.0           3.0  163  0.331  0.418  142  \n",
       "409         3.0           1.0  162  0.329  0.400  169  \n",
       "418         5.0           4.0  162  0.346  0.459   86  "
      ]
     },
     "execution_count": 28,
     "metadata": {},
     "output_type": "execute_result"
    }
   ],
   "source": [
    "df"
   ]
  },
  {
   "cell_type": "markdown",
   "metadata": {
    "colab_type": "text",
    "id": "PxDEsM8JJZd_"
   },
   "source": [
    "Running LinearRegression Model\n",
    "\n",
    "We are using on-base percentage (OBP) and slugging rate (SLG) as independent variables to predict Runs Scored (RS). Batting Average (BA) also has high correlation with RS but we are skipping that in the model because BA and SLG are similar and this will cause a multi-collineary issue in our model. For that reason we are not taking BA. "
   ]
  },
  {
   "cell_type": "code",
   "execution_count": 29,
   "metadata": {
    "colab": {
     "base_uri": "https://localhost:8080/",
     "height": 52
    },
    "colab_type": "code",
    "executionInfo": {
     "elapsed": 1059,
     "status": "ok",
     "timestamp": 1591183916170,
     "user": {
      "displayName": "Utthejh Gade",
      "photoUrl": "https://lh3.googleusercontent.com/a-/AOh14Ggkse30O7zFwf3_ehaf4TWAvINQgJUXDDB7vHph=s64",
      "userId": "16926086647299800832"
     },
     "user_tz": -330
    },
    "id": "cVvxe7NPPV_M",
    "outputId": "096f47ad-a948-481d-c301-1322a1af2228"
   },
   "outputs": [
    {
     "name": "stdout",
     "output_type": "stream",
     "text": [
      "[-1063.22544751]\n",
      "[[2724.40798084 2190.91660661]]\n"
     ]
    }
   ],
   "source": [
    "from sklearn.linear_model import LinearRegression\n",
    "\n",
    "# Extracting variables from the dataframe\n",
    "\n",
    "x = df[['OBP', 'SLG']].values\n",
    "y = df[['RS']].values # Calling our model object\n",
    "\n",
    "RS_model = LinearRegression() \n",
    "RS_model.fit(x,y)               # Fitting the model\n",
    "\n",
    "# Printing model intercept and coefficients\n",
    "\n",
    "print(RS_model.intercept_)\n",
    "print(RS_model.coef_)"
   ]
  },
  {
   "cell_type": "markdown",
   "metadata": {
    "colab_type": "text",
    "id": "HpQ6n4yLTbvo"
   },
   "source": [
    "Equation of model: \n",
    "\n",
    "RS = -804.627 + 2737.77 * (OBP) + 1584.91 * (SLG)"
   ]
  },
  {
   "cell_type": "code",
   "execution_count": 30,
   "metadata": {
    "colab": {
     "base_uri": "https://localhost:8080/",
     "height": 35
    },
    "colab_type": "code",
    "executionInfo": {
     "elapsed": 1456,
     "status": "ok",
     "timestamp": 1591143126006,
     "user": {
      "displayName": "Utthejh Gade",
      "photoUrl": "https://lh3.googleusercontent.com/a-/AOh14Ggkse30O7zFwf3_ehaf4TWAvINQgJUXDDB7vHph=s64",
      "userId": "16926086647299800832"
     },
     "user_tz": -330
    },
    "id": "b3Wl00r4TUgM",
    "outputId": "66fe6a30-11e6-42eb-c6c8-09f054336a6e"
   },
   "outputs": [
    {
     "data": {
      "text/plain": [
       "0.8554598943748477"
      ]
     },
     "execution_count": 30,
     "metadata": {},
     "output_type": "execute_result"
    }
   ],
   "source": [
    " RS_model.score(x,y)"
   ]
  },
  {
   "cell_type": "markdown",
   "metadata": {
    "colab_type": "text",
    "id": "oQB1qmQOTyLj"
   },
   "source": [
    "Let's run the model for Runs Allowed (RA) using opponents on-base percentage (OOBP) and opponent's slugging percentage as independent variables. "
   ]
  },
  {
   "cell_type": "code",
   "execution_count": 31,
   "metadata": {
    "colab": {
     "base_uri": "https://localhost:8080/",
     "height": 52
    },
    "colab_type": "code",
    "executionInfo": {
     "elapsed": 1145,
     "status": "ok",
     "timestamp": 1591183920108,
     "user": {
      "displayName": "Utthejh Gade",
      "photoUrl": "https://lh3.googleusercontent.com/a-/AOh14Ggkse30O7zFwf3_ehaf4TWAvINQgJUXDDB7vHph=s64",
      "userId": "16926086647299800832"
     },
     "user_tz": -330
    },
    "id": "AC6nXyKaUXGR",
    "outputId": "64b769fd-9946-421d-e5ac-6cff8be49f21"
   },
   "outputs": [
    {
     "name": "stdout",
     "output_type": "stream",
     "text": [
      "[-775.16234861]\n",
      "[[3225.00378812 1106.50390975]]\n"
     ]
    }
   ],
   "source": [
    "from sklearn.linear_model import LinearRegression\n",
    "\n",
    "# Extracting variables from the dataframe\n",
    "\n",
    "x = df[['OOBP', 'OSLG']].values\n",
    "y = df[['RA']].values # Calling our model object\n",
    "\n",
    "RA_model = LinearRegression() \n",
    "RA_model.fit(x,y)               # Fitting the model\n",
    "\n",
    "# Printing model intercept and coefficients\n",
    "\n",
    "print(RA_model.intercept_)\n",
    "print(RA_model.coef_)"
   ]
  },
  {
   "cell_type": "markdown",
   "metadata": {
    "colab_type": "text",
    "id": "ctXX-C0c3s7K"
   },
   "source": [
    "Equation of model: \n",
    "\n",
    "RA = -435.85 + -2234.364 * (OOBP) + 4576.41 * (OSLG)"
   ]
  },
  {
   "cell_type": "code",
   "execution_count": 32,
   "metadata": {
    "colab": {
     "base_uri": "https://localhost:8080/",
     "height": 52
    },
    "colab_type": "code",
    "executionInfo": {
     "elapsed": 1168,
     "status": "ok",
     "timestamp": 1591183924820,
     "user": {
      "displayName": "Utthejh Gade",
      "photoUrl": "https://lh3.googleusercontent.com/a-/AOh14Ggkse30O7zFwf3_ehaf4TWAvINQgJUXDDB7vHph=s64",
      "userId": "16926086647299800832"
     },
     "user_tz": -330
    },
    "id": "b5Y-Ie_NVCae",
    "outputId": "f3fbe553-5e8a-4886-ae1c-d0b1a66a71af"
   },
   "outputs": [
    {
     "name": "stdout",
     "output_type": "stream",
     "text": [
      "[84.09190385]\n",
      "[[0.08469339]]\n"
     ]
    }
   ],
   "source": [
    "from sklearn.linear_model import LinearRegression\n",
    "\n",
    "# Extracting variables from the dataframe\n",
    "\n",
    "x = df[['RD']].values\n",
    "y = df[['W']].values # Calling our model object\n",
    "\n",
    "W_model = LinearRegression() \n",
    "W_model.fit(x,y)               # Fitting the model\n",
    "\n",
    "# Printing model intercept and coefficients\n",
    "\n",
    "print(W_model.intercept_)\n",
    "print(W_model.coef_)"
   ]
  },
  {
   "cell_type": "code",
   "execution_count": 33,
   "metadata": {
    "colab": {
     "base_uri": "https://localhost:8080/",
     "height": 35
    },
    "colab_type": "code",
    "executionInfo": {
     "elapsed": 986,
     "status": "ok",
     "timestamp": 1591184033503,
     "user": {
      "displayName": "Utthejh Gade",
      "photoUrl": "https://lh3.googleusercontent.com/a-/AOh14Ggkse30O7zFwf3_ehaf4TWAvINQgJUXDDB7vHph=s64",
      "userId": "16926086647299800832"
     },
     "user_tz": -330
    },
    "id": "FZWFtUEDVKAL",
    "outputId": "7df00918-4595-496b-e678-bf3a3a3104b8"
   },
   "outputs": [
    {
     "data": {
      "text/plain": [
       "0.7323787583365337"
      ]
     },
     "execution_count": 33,
     "metadata": {},
     "output_type": "execute_result"
    }
   ],
   "source": [
    "W_model.score(x,y)"
   ]
  },
  {
   "cell_type": "code",
   "execution_count": 34,
   "metadata": {
    "colab": {
     "base_uri": "https://localhost:8080/",
     "height": 52
    },
    "colab_type": "code",
    "executionInfo": {
     "elapsed": 962,
     "status": "ok",
     "timestamp": 1591184035078,
     "user": {
      "displayName": "Utthejh Gade",
      "photoUrl": "https://lh3.googleusercontent.com/a-/AOh14Ggkse30O7zFwf3_ehaf4TWAvINQgJUXDDB7vHph=s64",
      "userId": "16926086647299800832"
     },
     "user_tz": -330
    },
    "id": "kRC4R-7hVOQk",
    "outputId": "3495f38f-c5c3-47a9-f18a-795f8266cbf6"
   },
   "outputs": [
    {
     "name": "stdout",
     "output_type": "stream",
     "text": [
      "0.327875\n",
      "0.3275\n"
     ]
    }
   ],
   "source": [
    "print(df['OOBP'].mean())\n",
    "print(df['OOBP'].median())"
   ]
  },
  {
   "cell_type": "code",
   "execution_count": null,
   "metadata": {
    "colab": {},
    "colab_type": "code",
    "id": "C7EYD_1ZVkuB"
   },
   "outputs": [],
   "source": []
  },
  {
   "cell_type": "markdown",
   "metadata": {
    "colab_type": "text",
    "id": "zbEqghz1VlVP"
   },
   "source": [
    "Model Prediction:\n",
    "\n",
    "Oakland A's Statistics in 2001 before the Playoffs:\n",
    "\n",
    "OBP: 0.339\n",
    "\n",
    "SLG: 0.430\n",
    "\n",
    "OOBP: 0.307\n",
    "\n",
    "OSLG: 0.373 \n",
    "\n",
    "Let plug these values into the above model to generate predictions:\n",
    "\n",
    "1) RS_model(OBP,SLG)\n",
    "\n",
    "2) RA_model(OOBP,OSLG)\n",
    "\n",
    "3) RD = RS_predict - RA+predict\n",
    "\n",
    "4) W_model(RD)"
   ]
  },
  {
   "cell_type": "markdown",
   "metadata": {
    "colab_type": "text",
    "id": "v_u8jXnrWxll"
   },
   "source": [
    "We will "
   ]
  },
  {
   "cell_type": "code",
   "execution_count": 35,
   "metadata": {
    "colab": {
     "base_uri": "https://localhost:8080/",
     "height": 35
    },
    "colab_type": "code",
    "executionInfo": {
     "elapsed": 978,
     "status": "ok",
     "timestamp": 1591184038748,
     "user": {
      "displayName": "Utthejh Gade",
      "photoUrl": "https://lh3.googleusercontent.com/a-/AOh14Ggkse30O7zFwf3_ehaf4TWAvINQgJUXDDB7vHph=s64",
      "userId": "16926086647299800832"
     },
     "user_tz": -330
    },
    "id": "Mn1wuZlmWyTD",
    "outputId": "1856143c-69d9-437d-8ee8-ba340980e260"
   },
   "outputs": [
    {
     "data": {
      "text/plain": [
       "array([[802.44299884]])"
      ]
     },
     "execution_count": 35,
     "metadata": {},
     "output_type": "execute_result"
    }
   ],
   "source": [
    "RS_model.predict([[0.339,0.430]])"
   ]
  },
  {
   "cell_type": "code",
   "execution_count": 36,
   "metadata": {
    "colab": {
     "base_uri": "https://localhost:8080/",
     "height": 35
    },
    "colab_type": "code",
    "executionInfo": {
     "elapsed": 927,
     "status": "ok",
     "timestamp": 1591184040063,
     "user": {
      "displayName": "Utthejh Gade",
      "photoUrl": "https://lh3.googleusercontent.com/a-/AOh14Ggkse30O7zFwf3_ehaf4TWAvINQgJUXDDB7vHph=s64",
      "userId": "16926086647299800832"
     },
     "user_tz": -330
    },
    "id": "yCYD6zASV0jU",
    "outputId": "1b5db600-401c-4ae2-9da6-142b61d6ff30"
   },
   "outputs": [
    {
     "data": {
      "text/plain": [
       "array([[627.63977268]])"
      ]
     },
     "execution_count": 36,
     "metadata": {},
     "output_type": "execute_result"
    }
   ],
   "source": [
    "RA_model.predict([[0.307,0.373]])"
   ]
  },
  {
   "cell_type": "code",
   "execution_count": 37,
   "metadata": {
    "colab": {
     "base_uri": "https://localhost:8080/",
     "height": 35
    },
    "colab_type": "code",
    "executionInfo": {
     "elapsed": 1003,
     "status": "ok",
     "timestamp": 1591184055957,
     "user": {
      "displayName": "Utthejh Gade",
      "photoUrl": "https://lh3.googleusercontent.com/a-/AOh14Ggkse30O7zFwf3_ehaf4TWAvINQgJUXDDB7vHph=s64",
      "userId": "16926086647299800832"
     },
     "user_tz": -330
    },
    "id": "6hEyqx2BWCD6",
    "outputId": "419f9ec0-28ef-499f-cd15-c8f77511626f"
   },
   "outputs": [
    {
     "data": {
      "text/plain": [
       "177.34722616"
      ]
     },
     "execution_count": 37,
     "metadata": {},
     "output_type": "execute_result"
    }
   ],
   "source": [
    "804.98699884 - 627.63977268"
   ]
  },
  {
   "cell_type": "code",
   "execution_count": 38,
   "metadata": {
    "colab": {
     "base_uri": "https://localhost:8080/",
     "height": 35
    },
    "colab_type": "code",
    "executionInfo": {
     "elapsed": 1005,
     "status": "ok",
     "timestamp": 1591184062512,
     "user": {
      "displayName": "Utthejh Gade",
      "photoUrl": "https://lh3.googleusercontent.com/a-/AOh14Ggkse30O7zFwf3_ehaf4TWAvINQgJUXDDB7vHph=s64",
      "userId": "16926086647299800832"
     },
     "user_tz": -330
    },
    "id": "PwHzRmaGXrvB",
    "outputId": "f70f4595-5c1b-4e8e-9b9d-5080a9750573"
   },
   "outputs": [
    {
     "data": {
      "text/plain": [
       "array([[99.11204101]])"
      ]
     },
     "execution_count": 38,
     "metadata": {},
     "output_type": "execute_result"
    }
   ],
   "source": [
    "W_model.predict([[177.34722616]])"
   ]
  },
  {
   "cell_type": "markdown",
   "metadata": {
    "colab_type": "text",
    "id": "irYbkuC9YPVo"
   },
   "source": [
    "Actual is 103, our results are close. This deviation is due to high level imputation done for missing values."
   ]
  },
  {
   "cell_type": "code",
   "execution_count": null,
   "metadata": {
    "colab": {},
    "colab_type": "code",
    "id": "UyRp1-6VY3UX"
   },
   "outputs": [],
   "source": []
  },
  {
   "cell_type": "code",
   "execution_count": null,
   "metadata": {
    "colab": {},
    "colab_type": "code",
    "id": "sVcIYJNHY335"
   },
   "outputs": [],
   "source": []
  },
  {
   "cell_type": "markdown",
   "metadata": {
    "colab_type": "text",
    "id": "RqmHedKoY4NJ"
   },
   "source": [
    "# 2) Median Imputation"
   ]
  },
  {
   "cell_type": "code",
   "execution_count": 39,
   "metadata": {
    "colab": {
     "base_uri": "https://localhost:8080/",
     "height": 106
    },
    "colab_type": "code",
    "executionInfo": {
     "elapsed": 1261,
     "status": "ok",
     "timestamp": 1591184374144,
     "user": {
      "displayName": "Utthejh Gade",
      "photoUrl": "https://lh3.googleusercontent.com/a-/AOh14Ggkse30O7zFwf3_ehaf4TWAvINQgJUXDDB7vHph=s64",
      "userId": "16926086647299800832"
     },
     "user_tz": -330
    },
    "id": "sB39FrEKhoV-",
    "outputId": "f7b6f707-e525-4f7b-e426-2d5f7e84c62a"
   },
   "outputs": [
    {
     "data": {
      "text/html": [
       "<div>\n",
       "<style scoped>\n",
       "    .dataframe tbody tr th:only-of-type {\n",
       "        vertical-align: middle;\n",
       "    }\n",
       "\n",
       "    .dataframe tbody tr th {\n",
       "        vertical-align: top;\n",
       "    }\n",
       "\n",
       "    .dataframe thead th {\n",
       "        text-align: right;\n",
       "    }\n",
       "</style>\n",
       "<table border=\"1\" class=\"dataframe\">\n",
       "  <thead>\n",
       "    <tr style=\"text-align: right;\">\n",
       "      <th></th>\n",
       "      <th>Team</th>\n",
       "      <th>League</th>\n",
       "      <th>Year</th>\n",
       "      <th>RS</th>\n",
       "      <th>RA</th>\n",
       "      <th>W</th>\n",
       "      <th>OBP</th>\n",
       "      <th>SLG</th>\n",
       "      <th>BA</th>\n",
       "      <th>Playoffs</th>\n",
       "      <th>RankSeason</th>\n",
       "      <th>RankPlayoffs</th>\n",
       "      <th>G</th>\n",
       "      <th>OOBP</th>\n",
       "      <th>OSLG</th>\n",
       "    </tr>\n",
       "  </thead>\n",
       "  <tbody>\n",
       "    <tr>\n",
       "      <td>0</td>\n",
       "      <td>ARI</td>\n",
       "      <td>NL</td>\n",
       "      <td>2012</td>\n",
       "      <td>734</td>\n",
       "      <td>688</td>\n",
       "      <td>81</td>\n",
       "      <td>0.328</td>\n",
       "      <td>0.418</td>\n",
       "      <td>0.259</td>\n",
       "      <td>0</td>\n",
       "      <td>NaN</td>\n",
       "      <td>NaN</td>\n",
       "      <td>162</td>\n",
       "      <td>0.317</td>\n",
       "      <td>0.415</td>\n",
       "    </tr>\n",
       "    <tr>\n",
       "      <td>1</td>\n",
       "      <td>ATL</td>\n",
       "      <td>NL</td>\n",
       "      <td>2012</td>\n",
       "      <td>700</td>\n",
       "      <td>600</td>\n",
       "      <td>94</td>\n",
       "      <td>0.320</td>\n",
       "      <td>0.389</td>\n",
       "      <td>0.247</td>\n",
       "      <td>1</td>\n",
       "      <td>4.0</td>\n",
       "      <td>5.0</td>\n",
       "      <td>162</td>\n",
       "      <td>0.306</td>\n",
       "      <td>0.378</td>\n",
       "    </tr>\n",
       "  </tbody>\n",
       "</table>\n",
       "</div>"
      ],
      "text/plain": [
       "  Team League  Year   RS   RA   W    OBP    SLG     BA  Playoffs  RankSeason  \\\n",
       "0  ARI     NL  2012  734  688  81  0.328  0.418  0.259         0         NaN   \n",
       "1  ATL     NL  2012  700  600  94  0.320  0.389  0.247         1         4.0   \n",
       "\n",
       "   RankPlayoffs    G   OOBP   OSLG  \n",
       "0           NaN  162  0.317  0.415  \n",
       "1           5.0  162  0.306  0.378  "
      ]
     },
     "execution_count": 39,
     "metadata": {},
     "output_type": "execute_result"
    }
   ],
   "source": [
    "bb1  = pd.read_csv('baseball.csv')\n",
    "bb1.head(2)"
   ]
  },
  {
   "cell_type": "code",
   "execution_count": 40,
   "metadata": {
    "colab": {},
    "colab_type": "code",
    "id": "2T_HO5iajD3E"
   },
   "outputs": [],
   "source": [
    "bb1['RD'] = bb1['RS'] - bb1['RA']"
   ]
  },
  {
   "cell_type": "code",
   "execution_count": 41,
   "metadata": {
    "colab": {
     "base_uri": "https://localhost:8080/",
     "height": 106
    },
    "colab_type": "code",
    "executionInfo": {
     "elapsed": 661,
     "status": "ok",
     "timestamp": 1591184376354,
     "user": {
      "displayName": "Utthejh Gade",
      "photoUrl": "https://lh3.googleusercontent.com/a-/AOh14Ggkse30O7zFwf3_ehaf4TWAvINQgJUXDDB7vHph=s64",
      "userId": "16926086647299800832"
     },
     "user_tz": -330
    },
    "id": "p1AzuhoVjFbb",
    "outputId": "e1562fef-5234-458f-d109-e3560f555dbe"
   },
   "outputs": [
    {
     "data": {
      "text/html": [
       "<div>\n",
       "<style scoped>\n",
       "    .dataframe tbody tr th:only-of-type {\n",
       "        vertical-align: middle;\n",
       "    }\n",
       "\n",
       "    .dataframe tbody tr th {\n",
       "        vertical-align: top;\n",
       "    }\n",
       "\n",
       "    .dataframe thead th {\n",
       "        text-align: right;\n",
       "    }\n",
       "</style>\n",
       "<table border=\"1\" class=\"dataframe\">\n",
       "  <thead>\n",
       "    <tr style=\"text-align: right;\">\n",
       "      <th></th>\n",
       "      <th>Team</th>\n",
       "      <th>League</th>\n",
       "      <th>Year</th>\n",
       "      <th>RS</th>\n",
       "      <th>RA</th>\n",
       "      <th>W</th>\n",
       "      <th>OBP</th>\n",
       "      <th>SLG</th>\n",
       "      <th>BA</th>\n",
       "      <th>Playoffs</th>\n",
       "      <th>RankSeason</th>\n",
       "      <th>RankPlayoffs</th>\n",
       "      <th>G</th>\n",
       "      <th>OOBP</th>\n",
       "      <th>OSLG</th>\n",
       "      <th>RD</th>\n",
       "    </tr>\n",
       "  </thead>\n",
       "  <tbody>\n",
       "    <tr>\n",
       "      <td>330</td>\n",
       "      <td>ANA</td>\n",
       "      <td>AL</td>\n",
       "      <td>2001</td>\n",
       "      <td>691</td>\n",
       "      <td>730</td>\n",
       "      <td>75</td>\n",
       "      <td>0.327</td>\n",
       "      <td>0.405</td>\n",
       "      <td>0.261</td>\n",
       "      <td>0</td>\n",
       "      <td>NaN</td>\n",
       "      <td>NaN</td>\n",
       "      <td>162</td>\n",
       "      <td>0.331</td>\n",
       "      <td>0.412</td>\n",
       "      <td>-39</td>\n",
       "    </tr>\n",
       "    <tr>\n",
       "      <td>331</td>\n",
       "      <td>ARI</td>\n",
       "      <td>NL</td>\n",
       "      <td>2001</td>\n",
       "      <td>818</td>\n",
       "      <td>677</td>\n",
       "      <td>92</td>\n",
       "      <td>0.341</td>\n",
       "      <td>0.442</td>\n",
       "      <td>0.267</td>\n",
       "      <td>1</td>\n",
       "      <td>5.0</td>\n",
       "      <td>1.0</td>\n",
       "      <td>162</td>\n",
       "      <td>0.311</td>\n",
       "      <td>0.404</td>\n",
       "      <td>141</td>\n",
       "    </tr>\n",
       "  </tbody>\n",
       "</table>\n",
       "</div>"
      ],
      "text/plain": [
       "    Team League  Year   RS   RA   W    OBP    SLG     BA  Playoffs  \\\n",
       "330  ANA     AL  2001  691  730  75  0.327  0.405  0.261         0   \n",
       "331  ARI     NL  2001  818  677  92  0.341  0.442  0.267         1   \n",
       "\n",
       "     RankSeason  RankPlayoffs    G   OOBP   OSLG   RD  \n",
       "330         NaN           NaN  162  0.331  0.412  -39  \n",
       "331         5.0           1.0  162  0.311  0.404  141  "
      ]
     },
     "execution_count": 41,
     "metadata": {},
     "output_type": "execute_result"
    }
   ],
   "source": [
    "df = bb1[bb1['Year']<2002]\n",
    "df.head(2)"
   ]
  },
  {
   "cell_type": "code",
   "execution_count": 42,
   "metadata": {},
   "outputs": [
    {
     "name": "stdout",
     "output_type": "stream",
     "text": [
      "0.3404777777777778\n",
      "0.342\n"
     ]
    }
   ],
   "source": [
    "print(df['OOBP'].mean())\n",
    "print(df['OOBP'].median())"
   ]
  },
  {
   "cell_type": "code",
   "execution_count": 43,
   "metadata": {
    "colab": {
     "base_uri": "https://localhost:8080/",
     "height": 106
    },
    "colab_type": "code",
    "executionInfo": {
     "elapsed": 1399,
     "status": "ok",
     "timestamp": 1591184380266,
     "user": {
      "displayName": "Utthejh Gade",
      "photoUrl": "https://lh3.googleusercontent.com/a-/AOh14Ggkse30O7zFwf3_ehaf4TWAvINQgJUXDDB7vHph=s64",
      "userId": "16926086647299800832"
     },
     "user_tz": -330
    },
    "id": "lcoIS4B9iFXY",
    "outputId": "97e67d2d-a684-47d9-9c1c-e43324f0ba16"
   },
   "outputs": [],
   "source": [
    "df['OSLG'].fillna((df['OSLG'].median()), inplace=True)\n",
    "df['OOBP'].fillna((df['OOBP'].median()), inplace=True)"
   ]
  },
  {
   "cell_type": "code",
   "execution_count": 44,
   "metadata": {
    "colab": {
     "base_uri": "https://localhost:8080/",
     "height": 52
    },
    "colab_type": "code",
    "executionInfo": {
     "elapsed": 1270,
     "status": "ok",
     "timestamp": 1591184390379,
     "user": {
      "displayName": "Utthejh Gade",
      "photoUrl": "https://lh3.googleusercontent.com/a-/AOh14Ggkse30O7zFwf3_ehaf4TWAvINQgJUXDDB7vHph=s64",
      "userId": "16926086647299800832"
     },
     "user_tz": -330
    },
    "id": "wIKUHfub4NHh",
    "outputId": "b71815ba-a7da-4c9a-a256-a26235de8aa8"
   },
   "outputs": [
    {
     "name": "stdout",
     "output_type": "stream",
     "text": [
      "0.3418481152993372\n",
      "0.342\n"
     ]
    }
   ],
   "source": [
    "print(df['OOBP'].mean())\n",
    "print(df['OOBP'].median())"
   ]
  },
  {
   "cell_type": "code",
   "execution_count": 45,
   "metadata": {
    "colab": {
     "base_uri": "https://localhost:8080/",
     "height": 137
    },
    "colab_type": "code",
    "executionInfo": {
     "elapsed": 1517,
     "status": "ok",
     "timestamp": 1586997145785,
     "user": {
      "displayName": "Utthejh Gade",
      "photoUrl": "https://lh3.googleusercontent.com/a-/AOh14Ggkse30O7zFwf3_ehaf4TWAvINQgJUXDDB7vHph=s64",
      "userId": "16926086647299800832"
     },
     "user_tz": -330
    },
    "id": "1tuR6-nrZQzY",
    "outputId": "ec569129-efd1-4255-dd07-5c78c37b6fa4"
   },
   "outputs": [],
   "source": [
    "for col in df.columns:\n",
    "  df[col] = df[col].fillna(df[col].sample(random_state = 0).iloc[0]) #It dropping the null values and randomly picking a record (.sample()) and it will only take the value and not the index (.iloc[0])#"
   ]
  },
  {
   "cell_type": "code",
   "execution_count": 46,
   "metadata": {
    "colab": {
     "base_uri": "https://localhost:8080/",
     "height": 52
    },
    "colab_type": "code",
    "executionInfo": {
     "elapsed": 1257,
     "status": "ok",
     "timestamp": 1591184414175,
     "user": {
      "displayName": "Utthejh Gade",
      "photoUrl": "https://lh3.googleusercontent.com/a-/AOh14Ggkse30O7zFwf3_ehaf4TWAvINQgJUXDDB7vHph=s64",
      "userId": "16926086647299800832"
     },
     "user_tz": -330
    },
    "id": "gSf4rgxUZQqr",
    "outputId": "b627928a-128f-469f-987d-8edfec31ef50"
   },
   "outputs": [
    {
     "name": "stdout",
     "output_type": "stream",
     "text": [
      "[-804.62706106]\n",
      "[[2737.76802227 1584.90860546]]\n"
     ]
    }
   ],
   "source": [
    "from sklearn.linear_model import LinearRegression\n",
    "\n",
    "# Extracting variables from the dataframe\n",
    "\n",
    "x = df[['OBP', 'SLG']].values\n",
    "y = df[['RS']].values # Calling our model object\n",
    "\n",
    "RS_model = LinearRegression() \n",
    "RS_model.fit(x,y)               # Fitting the model\n",
    "\n",
    "# Printing model intercept and coefficients\n",
    "\n",
    "print(RS_model.intercept_)\n",
    "print(RS_model.coef_)"
   ]
  },
  {
   "cell_type": "code",
   "execution_count": 47,
   "metadata": {
    "colab": {
     "base_uri": "https://localhost:8080/",
     "height": 52
    },
    "colab_type": "code",
    "executionInfo": {
     "elapsed": 954,
     "status": "ok",
     "timestamp": 1591184417415,
     "user": {
      "displayName": "Utthejh Gade",
      "photoUrl": "https://lh3.googleusercontent.com/a-/AOh14Ggkse30O7zFwf3_ehaf4TWAvINQgJUXDDB7vHph=s64",
      "userId": "16926086647299800832"
     },
     "user_tz": -330
    },
    "id": "cWH87eEiZQjw",
    "outputId": "af75de89-7c3f-4833-c525-6f220da7c1d7"
   },
   "outputs": [
    {
     "name": "stdout",
     "output_type": "stream",
     "text": [
      "[-691.10071362]\n",
      "[[1015.13392078 2422.86337262]]\n"
     ]
    }
   ],
   "source": [
    "from sklearn.linear_model import LinearRegression\n",
    "\n",
    "# Extracting variables from the dataframe\n",
    "\n",
    "x = df[['OOBP', 'OSLG']].values\n",
    "y = df[['RA']].values # Calling our model object\n",
    "\n",
    "RA_model = LinearRegression() \n",
    "RA_model.fit(x,y)               # Fitting the model\n",
    "\n",
    "# Printing model intercept and coefficients\n",
    "\n",
    "print(RA_model.intercept_)\n",
    "print(RA_model.coef_)"
   ]
  },
  {
   "cell_type": "code",
   "execution_count": 48,
   "metadata": {
    "colab": {
     "base_uri": "https://localhost:8080/",
     "height": 52
    },
    "colab_type": "code",
    "executionInfo": {
     "elapsed": 1136,
     "status": "ok",
     "timestamp": 1591184419779,
     "user": {
      "displayName": "Utthejh Gade",
      "photoUrl": "https://lh3.googleusercontent.com/a-/AOh14Ggkse30O7zFwf3_ehaf4TWAvINQgJUXDDB7vHph=s64",
      "userId": "16926086647299800832"
     },
     "user_tz": -330
    },
    "id": "Mj_YWv8oZQbr",
    "outputId": "2fbb1fdc-64ee-4627-a181-09564f3ac0d4"
   },
   "outputs": [
    {
     "name": "stdout",
     "output_type": "stream",
     "text": [
      "[80.88137472]\n",
      "[[0.10576562]]\n"
     ]
    }
   ],
   "source": [
    "from sklearn.linear_model import LinearRegression\n",
    "\n",
    "# Extracting variables from the dataframe\n",
    "\n",
    "x = df[['RD']].values\n",
    "y = df[['W']].values # Calling our model object\n",
    "\n",
    "W_model = LinearRegression() \n",
    "W_model.fit(x,y)               # Fitting the model\n",
    "\n",
    "# Printing model intercept and coefficients\n",
    "\n",
    "print(W_model.intercept_)\n",
    "print(W_model.coef_)"
   ]
  },
  {
   "cell_type": "code",
   "execution_count": null,
   "metadata": {
    "colab": {},
    "colab_type": "code",
    "id": "im1AWDSl-3eP"
   },
   "outputs": [],
   "source": []
  },
  {
   "cell_type": "markdown",
   "metadata": {
    "colab_type": "text",
    "id": "wqy9ge3o-3sF"
   },
   "source": [
    "Let's predict the number of wins required"
   ]
  },
  {
   "cell_type": "code",
   "execution_count": 49,
   "metadata": {
    "colab": {
     "base_uri": "https://localhost:8080/",
     "height": 35
    },
    "colab_type": "code",
    "executionInfo": {
     "elapsed": 990,
     "status": "ok",
     "timestamp": 1591184447707,
     "user": {
      "displayName": "Utthejh Gade",
      "photoUrl": "https://lh3.googleusercontent.com/a-/AOh14Ggkse30O7zFwf3_ehaf4TWAvINQgJUXDDB7vHph=s64",
      "userId": "16926086647299800832"
     },
     "user_tz": -330
    },
    "id": "A8Wdj7FGZ1Qn",
    "outputId": "5d72436e-2801-426d-db10-f11768b2f6a3"
   },
   "outputs": [
    {
     "data": {
      "text/plain": [
       "array([[804.98699884]])"
      ]
     },
     "execution_count": 49,
     "metadata": {},
     "output_type": "execute_result"
    }
   ],
   "source": [
    "RS_model.predict([[0.339,0.430]])"
   ]
  },
  {
   "cell_type": "code",
   "execution_count": 50,
   "metadata": {
    "colab": {
     "base_uri": "https://localhost:8080/",
     "height": 35
    },
    "colab_type": "code",
    "executionInfo": {
     "elapsed": 1222,
     "status": "ok",
     "timestamp": 1591184450782,
     "user": {
      "displayName": "Utthejh Gade",
      "photoUrl": "https://lh3.googleusercontent.com/a-/AOh14Ggkse30O7zFwf3_ehaf4TWAvINQgJUXDDB7vHph=s64",
      "userId": "16926086647299800832"
     },
     "user_tz": -330
    },
    "id": "YQrf9Gt3Z8Qh",
    "outputId": "ef4173f9-3ac5-4007-e6d7-5ef3b585fcde"
   },
   "outputs": [
    {
     "data": {
      "text/plain": [
       "array([[524.27343805]])"
      ]
     },
     "execution_count": 50,
     "metadata": {},
     "output_type": "execute_result"
    }
   ],
   "source": [
    "RA_model.predict([[0.307,0.373]])"
   ]
  },
  {
   "cell_type": "code",
   "execution_count": 51,
   "metadata": {
    "colab": {
     "base_uri": "https://localhost:8080/",
     "height": 35
    },
    "colab_type": "code",
    "executionInfo": {
     "elapsed": 938,
     "status": "ok",
     "timestamp": 1591184509076,
     "user": {
      "displayName": "Utthejh Gade",
      "photoUrl": "https://lh3.googleusercontent.com/a-/AOh14Ggkse30O7zFwf3_ehaf4TWAvINQgJUXDDB7vHph=s64",
      "userId": "16926086647299800832"
     },
     "user_tz": -330
    },
    "id": "lAY7gjvwZ9D9",
    "outputId": "8e7f836c-5660-4de9-d509-4651448537ff"
   },
   "outputs": [
    {
     "data": {
      "text/plain": [
       "280.71356079"
      ]
     },
     "execution_count": 51,
     "metadata": {},
     "output_type": "execute_result"
    }
   ],
   "source": [
    "804.98699884 - 524.27343805 #Run Difference = Runs Scored - Runs Allowed"
   ]
  },
  {
   "cell_type": "code",
   "execution_count": 52,
   "metadata": {
    "colab": {
     "base_uri": "https://localhost:8080/",
     "height": 35
    },
    "colab_type": "code",
    "executionInfo": {
     "elapsed": 925,
     "status": "ok",
     "timestamp": 1591184512048,
     "user": {
      "displayName": "Utthejh Gade",
      "photoUrl": "https://lh3.googleusercontent.com/a-/AOh14Ggkse30O7zFwf3_ehaf4TWAvINQgJUXDDB7vHph=s64",
      "userId": "16926086647299800832"
     },
     "user_tz": -330
    },
    "id": "9dt0b0JuZ8_k",
    "outputId": "73992040-6353-4605-a19e-99ea32db100a"
   },
   "outputs": [
    {
     "data": {
      "text/plain": [
       "array([[110.57121921]])"
      ]
     },
     "execution_count": 52,
     "metadata": {},
     "output_type": "execute_result"
    }
   ],
   "source": [
    "W_model.predict([[280.71356079]])"
   ]
  },
  {
   "cell_type": "markdown",
   "metadata": {},
   "source": [
    "Dropping the null values has given better results than median imputation because median imputation won't be effective if the percentage of null value is greater than 8% to 9%"
   ]
  },
  {
   "cell_type": "code",
   "execution_count": null,
   "metadata": {},
   "outputs": [],
   "source": []
  },
  {
   "cell_type": "markdown",
   "metadata": {},
   "source": [
    "# 3) Mean Imputation"
   ]
  },
  {
   "cell_type": "code",
   "execution_count": 53,
   "metadata": {},
   "outputs": [
    {
     "data": {
      "text/html": [
       "<div>\n",
       "<style scoped>\n",
       "    .dataframe tbody tr th:only-of-type {\n",
       "        vertical-align: middle;\n",
       "    }\n",
       "\n",
       "    .dataframe tbody tr th {\n",
       "        vertical-align: top;\n",
       "    }\n",
       "\n",
       "    .dataframe thead th {\n",
       "        text-align: right;\n",
       "    }\n",
       "</style>\n",
       "<table border=\"1\" class=\"dataframe\">\n",
       "  <thead>\n",
       "    <tr style=\"text-align: right;\">\n",
       "      <th></th>\n",
       "      <th>Team</th>\n",
       "      <th>League</th>\n",
       "      <th>Year</th>\n",
       "      <th>RS</th>\n",
       "      <th>RA</th>\n",
       "      <th>W</th>\n",
       "      <th>OBP</th>\n",
       "      <th>SLG</th>\n",
       "      <th>BA</th>\n",
       "      <th>Playoffs</th>\n",
       "      <th>RankSeason</th>\n",
       "      <th>RankPlayoffs</th>\n",
       "      <th>G</th>\n",
       "      <th>OOBP</th>\n",
       "      <th>OSLG</th>\n",
       "    </tr>\n",
       "  </thead>\n",
       "  <tbody>\n",
       "    <tr>\n",
       "      <td>0</td>\n",
       "      <td>ARI</td>\n",
       "      <td>NL</td>\n",
       "      <td>2012</td>\n",
       "      <td>734</td>\n",
       "      <td>688</td>\n",
       "      <td>81</td>\n",
       "      <td>0.328</td>\n",
       "      <td>0.418</td>\n",
       "      <td>0.259</td>\n",
       "      <td>0</td>\n",
       "      <td>NaN</td>\n",
       "      <td>NaN</td>\n",
       "      <td>162</td>\n",
       "      <td>0.317</td>\n",
       "      <td>0.415</td>\n",
       "    </tr>\n",
       "    <tr>\n",
       "      <td>1</td>\n",
       "      <td>ATL</td>\n",
       "      <td>NL</td>\n",
       "      <td>2012</td>\n",
       "      <td>700</td>\n",
       "      <td>600</td>\n",
       "      <td>94</td>\n",
       "      <td>0.320</td>\n",
       "      <td>0.389</td>\n",
       "      <td>0.247</td>\n",
       "      <td>1</td>\n",
       "      <td>4.0</td>\n",
       "      <td>5.0</td>\n",
       "      <td>162</td>\n",
       "      <td>0.306</td>\n",
       "      <td>0.378</td>\n",
       "    </tr>\n",
       "  </tbody>\n",
       "</table>\n",
       "</div>"
      ],
      "text/plain": [
       "  Team League  Year   RS   RA   W    OBP    SLG     BA  Playoffs  RankSeason  \\\n",
       "0  ARI     NL  2012  734  688  81  0.328  0.418  0.259         0         NaN   \n",
       "1  ATL     NL  2012  700  600  94  0.320  0.389  0.247         1         4.0   \n",
       "\n",
       "   RankPlayoffs    G   OOBP   OSLG  \n",
       "0           NaN  162  0.317  0.415  \n",
       "1           5.0  162  0.306  0.378  "
      ]
     },
     "execution_count": 53,
     "metadata": {},
     "output_type": "execute_result"
    }
   ],
   "source": [
    "bb2  = pd.read_csv('baseball.csv')\n",
    "bb2.head(2)"
   ]
  },
  {
   "cell_type": "code",
   "execution_count": 54,
   "metadata": {},
   "outputs": [],
   "source": [
    "bb2['RD'] = bb2['RS'] - bb2['RA']"
   ]
  },
  {
   "cell_type": "code",
   "execution_count": 55,
   "metadata": {},
   "outputs": [
    {
     "data": {
      "text/html": [
       "<div>\n",
       "<style scoped>\n",
       "    .dataframe tbody tr th:only-of-type {\n",
       "        vertical-align: middle;\n",
       "    }\n",
       "\n",
       "    .dataframe tbody tr th {\n",
       "        vertical-align: top;\n",
       "    }\n",
       "\n",
       "    .dataframe thead th {\n",
       "        text-align: right;\n",
       "    }\n",
       "</style>\n",
       "<table border=\"1\" class=\"dataframe\">\n",
       "  <thead>\n",
       "    <tr style=\"text-align: right;\">\n",
       "      <th></th>\n",
       "      <th>Team</th>\n",
       "      <th>League</th>\n",
       "      <th>Year</th>\n",
       "      <th>RS</th>\n",
       "      <th>RA</th>\n",
       "      <th>W</th>\n",
       "      <th>OBP</th>\n",
       "      <th>SLG</th>\n",
       "      <th>BA</th>\n",
       "      <th>Playoffs</th>\n",
       "      <th>RankSeason</th>\n",
       "      <th>RankPlayoffs</th>\n",
       "      <th>G</th>\n",
       "      <th>OOBP</th>\n",
       "      <th>OSLG</th>\n",
       "      <th>RD</th>\n",
       "    </tr>\n",
       "  </thead>\n",
       "  <tbody>\n",
       "    <tr>\n",
       "      <td>330</td>\n",
       "      <td>ANA</td>\n",
       "      <td>AL</td>\n",
       "      <td>2001</td>\n",
       "      <td>691</td>\n",
       "      <td>730</td>\n",
       "      <td>75</td>\n",
       "      <td>0.327</td>\n",
       "      <td>0.405</td>\n",
       "      <td>0.261</td>\n",
       "      <td>0</td>\n",
       "      <td>NaN</td>\n",
       "      <td>NaN</td>\n",
       "      <td>162</td>\n",
       "      <td>0.331</td>\n",
       "      <td>0.412</td>\n",
       "      <td>-39</td>\n",
       "    </tr>\n",
       "    <tr>\n",
       "      <td>331</td>\n",
       "      <td>ARI</td>\n",
       "      <td>NL</td>\n",
       "      <td>2001</td>\n",
       "      <td>818</td>\n",
       "      <td>677</td>\n",
       "      <td>92</td>\n",
       "      <td>0.341</td>\n",
       "      <td>0.442</td>\n",
       "      <td>0.267</td>\n",
       "      <td>1</td>\n",
       "      <td>5.0</td>\n",
       "      <td>1.0</td>\n",
       "      <td>162</td>\n",
       "      <td>0.311</td>\n",
       "      <td>0.404</td>\n",
       "      <td>141</td>\n",
       "    </tr>\n",
       "  </tbody>\n",
       "</table>\n",
       "</div>"
      ],
      "text/plain": [
       "    Team League  Year   RS   RA   W    OBP    SLG     BA  Playoffs  \\\n",
       "330  ANA     AL  2001  691  730  75  0.327  0.405  0.261         0   \n",
       "331  ARI     NL  2001  818  677  92  0.341  0.442  0.267         1   \n",
       "\n",
       "     RankSeason  RankPlayoffs    G   OOBP   OSLG   RD  \n",
       "330         NaN           NaN  162  0.331  0.412  -39  \n",
       "331         5.0           1.0  162  0.311  0.404  141  "
      ]
     },
     "execution_count": 55,
     "metadata": {},
     "output_type": "execute_result"
    }
   ],
   "source": [
    "df = bb2[bb2['Year']<2002]\n",
    "df.head(2)"
   ]
  },
  {
   "cell_type": "code",
   "execution_count": 56,
   "metadata": {},
   "outputs": [
    {
     "name": "stdout",
     "output_type": "stream",
     "text": [
      "0.3404777777777778\n",
      "0.342\n"
     ]
    }
   ],
   "source": [
    "print(df['OOBP'].mean())\n",
    "print(df['OOBP'].median())"
   ]
  },
  {
   "cell_type": "code",
   "execution_count": 57,
   "metadata": {},
   "outputs": [],
   "source": [
    "df['OSLG'].fillna((df['OSLG'].mean()), inplace=True)\n",
    "df['OOBP'].fillna((df['OOBP'].mean()), inplace=True)"
   ]
  },
  {
   "cell_type": "code",
   "execution_count": 58,
   "metadata": {},
   "outputs": [
    {
     "name": "stdout",
     "output_type": "stream",
     "text": [
      "0.34047777777777805\n",
      "0.3404777777777778\n"
     ]
    }
   ],
   "source": [
    "print(df['OOBP'].mean())\n",
    "print(df['OOBP'].median())"
   ]
  },
  {
   "cell_type": "code",
   "execution_count": null,
   "metadata": {},
   "outputs": [],
   "source": []
  },
  {
   "cell_type": "code",
   "execution_count": 59,
   "metadata": {},
   "outputs": [
    {
     "name": "stdout",
     "output_type": "stream",
     "text": [
      "[-804.62706106]\n",
      "[[2737.76802227 1584.90860546]]\n"
     ]
    }
   ],
   "source": [
    "from sklearn.linear_model import LinearRegression\n",
    "\n",
    "# Extracting variables from the dataframe\n",
    "\n",
    "x = df[['OBP', 'SLG']].values\n",
    "y = df[['RS']].values # Calling our model object\n",
    "\n",
    "RS_model = LinearRegression() \n",
    "RS_model.fit(x,y)               # Fitting the model\n",
    "\n",
    "# Printing model intercept and coefficients\n",
    "\n",
    "print(RS_model.intercept_)\n",
    "print(RS_model.coef_)"
   ]
  },
  {
   "cell_type": "code",
   "execution_count": null,
   "metadata": {},
   "outputs": [],
   "source": []
  },
  {
   "cell_type": "code",
   "execution_count": 60,
   "metadata": {},
   "outputs": [
    {
     "name": "stdout",
     "output_type": "stream",
     "text": [
      "[-943.13524264]\n",
      "[[2913.59948582 1514.28595842]]\n"
     ]
    }
   ],
   "source": [
    "from sklearn.linear_model import LinearRegression\n",
    "\n",
    "# Extracting variables from the dataframe\n",
    "\n",
    "x = df[['OOBP', 'OSLG']].values\n",
    "y = df[['RA']].values # Calling our model object\n",
    "\n",
    "RA_model = LinearRegression() \n",
    "RA_model.fit(x,y)               # Fitting the model\n",
    "\n",
    "# Printing model intercept and coefficients\n",
    "\n",
    "print(RA_model.intercept_)\n",
    "print(RA_model.coef_)"
   ]
  },
  {
   "cell_type": "code",
   "execution_count": null,
   "metadata": {},
   "outputs": [],
   "source": []
  },
  {
   "cell_type": "code",
   "execution_count": 61,
   "metadata": {},
   "outputs": [
    {
     "name": "stdout",
     "output_type": "stream",
     "text": [
      "[80.88137472]\n",
      "[[0.10576562]]\n"
     ]
    }
   ],
   "source": [
    "from sklearn.linear_model import LinearRegression\n",
    "\n",
    "# Extracting variables from the dataframe\n",
    "\n",
    "x = df[['RD']].values\n",
    "y = df[['W']].values # Calling our model object\n",
    "\n",
    "W_model = LinearRegression() \n",
    "W_model.fit(x,y)               # Fitting the model\n",
    "\n",
    "# Printing model intercept and coefficients\n",
    "\n",
    "print(W_model.intercept_)\n",
    "print(W_model.coef_)"
   ]
  },
  {
   "cell_type": "code",
   "execution_count": null,
   "metadata": {},
   "outputs": [],
   "source": []
  },
  {
   "cell_type": "markdown",
   "metadata": {},
   "source": [
    "Predict the values"
   ]
  },
  {
   "cell_type": "code",
   "execution_count": 62,
   "metadata": {},
   "outputs": [
    {
     "data": {
      "text/plain": [
       "array([[804.98699884]])"
      ]
     },
     "execution_count": 62,
     "metadata": {},
     "output_type": "execute_result"
    }
   ],
   "source": [
    "RS_model.predict([[0.339,0.430]])"
   ]
  },
  {
   "cell_type": "code",
   "execution_count": 63,
   "metadata": {},
   "outputs": [
    {
     "data": {
      "text/plain": [
       "array([[516.16846199]])"
      ]
     },
     "execution_count": 63,
     "metadata": {},
     "output_type": "execute_result"
    }
   ],
   "source": [
    "RA_model.predict([[0.307,0.373]])"
   ]
  },
  {
   "cell_type": "code",
   "execution_count": 64,
   "metadata": {},
   "outputs": [
    {
     "data": {
      "text/plain": [
       "288.81853685"
      ]
     },
     "execution_count": 64,
     "metadata": {},
     "output_type": "execute_result"
    }
   ],
   "source": [
    "804.98699884-516.16846199"
   ]
  },
  {
   "cell_type": "code",
   "execution_count": 65,
   "metadata": {},
   "outputs": [
    {
     "data": {
      "text/plain": [
       "array([[111.42844705]])"
      ]
     },
     "execution_count": 65,
     "metadata": {},
     "output_type": "execute_result"
    }
   ],
   "source": [
    "W_model.predict([[288.81853685]])"
   ]
  },
  {
   "cell_type": "code",
   "execution_count": null,
   "metadata": {},
   "outputs": [],
   "source": []
  },
  {
   "cell_type": "markdown",
   "metadata": {},
   "source": [
    "Due to the high amounts of null values the mean and median imputation has yielded us poor results in terms of predicting the wins to make it to the playoffs. Looks the sample of 24 records yielded us the best results. "
   ]
  },
  {
   "cell_type": "code",
   "execution_count": null,
   "metadata": {},
   "outputs": [],
   "source": []
  }
 ],
 "metadata": {
  "colab": {
   "authorship_tag": "ABX9TyO/RPIEeJlOYo7nAp/ovIuZ",
   "collapsed_sections": [],
   "name": "Non-Linear Regression _Baseball.ipynb",
   "provenance": []
  },
  "kernelspec": {
   "display_name": "Python 3",
   "language": "python",
   "name": "python3"
  },
  "language_info": {
   "codemirror_mode": {
    "name": "ipython",
    "version": 3
   },
   "file_extension": ".py",
   "mimetype": "text/x-python",
   "name": "python",
   "nbconvert_exporter": "python",
   "pygments_lexer": "ipython3",
   "version": "3.7.4"
  }
 },
 "nbformat": 4,
 "nbformat_minor": 1
}
